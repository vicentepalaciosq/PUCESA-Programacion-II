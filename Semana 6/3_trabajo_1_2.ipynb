{
 "cells": [
  {
   "cell_type": "markdown",
   "id": "7afe7944",
   "metadata": {},
   "source": [
    "🎯 Objetivos específicos:\n",
    "\n",
    "* Comprender las diferencias entre búsqueda lineal y binaria.\n",
    "* Implementar ambos algoritmos en Python.\n",
    "* Analizar cuándo usar cada tipo de búsqueda."
   ]
  },
  {
   "cell_type": "markdown",
   "id": "bd3bd370",
   "metadata": {},
   "source": [
    "📌 Parte 1: Búsqueda Lineal\n",
    "\n",
    "🧪 Ejercicio guía (resuelto)\n",
    "\n",
    "Problema:\n",
    "Dada una lista de nombres, buscar si un nombre ingresado por el usuario está en la lista. Usar búsqueda lineal."
   ]
  },
  {
   "cell_type": "code",
   "execution_count": null,
   "id": "82897db6",
   "metadata": {},
   "outputs": [],
   "source": [
    "def busqueda_lineal(lista, objetivo):\n",
    "    for i in range(len(lista)):\n",
    "        if lista[i] == objetivo:\n",
    "            return i\n",
    "    return -1\n",
    "\n",
    "nombres = [\"Ana\", \"Luis\", \"Pedro\", \"Lucía\", \"María\"]\n",
    "buscar = input(\"Ingrese el nombre a buscar: \")\n",
    "\n",
    "pos = busqueda_lineal(nombres, buscar)\n",
    "if pos != -1:\n",
    "    print(f\"'{buscar}' se encontró en la posición {pos}.\")\n",
    "else:\n",
    "    print(f\"'{buscar}' no se encuentra en la lista.\")\n"
   ]
  },
  {
   "cell_type": "markdown",
   "id": "d93d23f0",
   "metadata": {},
   "source": [
    "# 💡 Actividad práctica 1:\n",
    "\n",
    "Instrucciones:\n",
    "\n",
    "1. Crea una lista de al menos 10 elementos (nombres de frutas).\n",
    "2. Solicita al usuario ingresar una fruta.\n",
    "3. Usa búsqueda lineal para indicar si está o no, y en qué posición.\n",
    "\n",
    "Extra: Muestra cuántas comparaciones se hicieron hasta encontrarla."
   ]
  },
  {
   "cell_type": "markdown",
   "id": "69d477ea",
   "metadata": {},
   "source": [
    "______________"
   ]
  },
  {
   "cell_type": "markdown",
   "id": "7757ca5f",
   "metadata": {},
   "source": [
    "📌 Parte 2: Búsqueda Binaria\n",
    "\n",
    "🧪 Ejercicio guía (resuelto)\n",
    "\n",
    "Problema:\n",
    "Dada una lista de números ordenada, buscar un número ingresado por el usuario usando búsqueda binaria."
   ]
  },
  {
   "cell_type": "code",
   "execution_count": null,
   "id": "9103ef64",
   "metadata": {},
   "outputs": [],
   "source": [
    "def busqueda_binaria(lista, objetivo):\n",
    "    inicio = 0\n",
    "    fin = len(lista) - 1\n",
    "\n",
    "    while inicio <= fin:\n",
    "        medio = (inicio + fin) // 2\n",
    "        if lista[medio] == objetivo:\n",
    "            return medio\n",
    "        elif lista[medio] < objetivo:\n",
    "            inicio = medio + 1\n",
    "        else:\n",
    "            fin = medio - 1\n",
    "    return -1\n",
    "\n",
    "numeros = [2, 5, 8, 13, 21, 34, 55, 68]\n",
    "buscar = int(input(\"Ingrese el número a buscar: \"))\n",
    "\n",
    "pos = busqueda_binaria(numeros, buscar)\n",
    "if pos != -1:\n",
    "    print(f\"'{buscar}' se encontró en la posición {pos}.\")\n",
    "else:\n",
    "    print(f\"'{buscar}' no se encuentra en la lista.\")\n"
   ]
  },
  {
   "cell_type": "markdown",
   "id": "24044092",
   "metadata": {},
   "source": [
    "# 💡 Actividad práctica 2:\n",
    "\n",
    "Instrucciones:\n",
    "\n",
    "1. Usa una lista ordenada de números enteros del 10 al 100 con intervalos de 10.\n",
    "2. Pide al usuario un número y búscalo con búsqueda binaria.\n",
    "3. Muestra si se encontró, en qué posición, y cuántas veces se partió la lista."
   ]
  },
  {
   "cell_type": "markdown",
   "id": "7d71236e",
   "metadata": {},
   "source": [
    "__________\n"
   ]
  },
  {
   "cell_type": "markdown",
   "id": "f78e979b",
   "metadata": {},
   "source": [
    "# 📄 Entregables\n",
    "\n",
    "Los estudiantes deben entregar un archivo .py o .ipynb con:\n",
    "\n",
    "* El algoritmo de búsqueda lineal con su actividad resuelta.\n",
    "* El algoritmo de búsqueda binaria con su actividad resuelta.\n",
    "* Comentarios explicando el funcionamiento de cada algoritmo."
   ]
  }
 ],
 "metadata": {
  "kernelspec": {
   "display_name": "base",
   "language": "python",
   "name": "python3"
  },
  "language_info": {
   "name": "python",
   "version": "3.11.5"
  }
 },
 "nbformat": 4,
 "nbformat_minor": 5
}
