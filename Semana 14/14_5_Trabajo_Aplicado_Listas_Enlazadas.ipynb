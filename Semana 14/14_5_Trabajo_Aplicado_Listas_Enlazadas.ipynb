{
 "cells": [
  {
   "cell_type": "markdown",
   "id": "2c6ee75e",
   "metadata": {},
   "source": [
    "\n",
    "# Trabajo Aplicado: Implementación de un Módulo con Listas Enlazadas\n",
    "\n",
    "## Objetivo\n",
    "\n",
    "Aplicar de manera integrada todos los conocimientos teóricos y prácticos adquiridos sobre listas enlazadas simples y dobles mediante la creación de un sistema funcional que resuelva un problema real.\n",
    "\n",
    "---\n",
    "\n",
    "## Descripción del Trabajo\n",
    "\n",
    "Diseña e implementa un pequeño sistema en Python que utilice:\n",
    "\n",
    "- Una **lista enlazada simple** para gestionar una **cola de atención** (tipo banco o centro médico).\n",
    "- Una **lista enlazada doble** para simular un **historial de navegación**, permitiendo ir hacia adelante y hacia atrás entre elementos visitados.\n",
    "\n",
    "Puedes utilizar clases como `Persona`, `Turno`, `Pagina`, etc. Cada estructura debe permitir:\n",
    "- Agregar nuevos elementos.\n",
    "- Mostrar el contenido actual.\n",
    "- Eliminar o recorrer en ambas direcciones, según el tipo de lista.\n",
    "\n",
    "---\n",
    "\n",
    "## Estructura Requerida\n",
    "\n",
    "El sistema debe incluir al menos:\n",
    "\n",
    "1. Clases bien definidas con `__init__`.\n",
    "2. Métodos como `insertar`, `eliminar`, `mostrar`, `avanzar`, `retroceder`.\n",
    "3. Simulación con al menos 5 elementos en cada estructura.\n",
    "4. Salida impresa clara que demuestre el funcionamiento.\n",
    "\n",
    "--- \n"
   ]
  },
  {
   "cell_type": "code",
   "execution_count": 1,
   "id": "69de645f",
   "metadata": {},
   "outputs": [],
   "source": [
    "\n",
    "# Tu implementación va aquí\n",
    "# Crea clases, listas, simulaciones, pruebas y salidas\n",
    "\n",
    "# Por ejemplo:\n",
    "# - ListaAtencion\n",
    "# - HistorialNavegacion\n",
    "# - Uso de métodos de recorrido y eliminación\n",
    "\n",
    "# Puedes usar las clases de ejemplo ya estudiadas y adaptarlas.\n",
    "\n",
    "# 💡 Sugerencia para eliminar un elemento:\n",
    "# Para implementar la función eliminar(valor), recorre la lista buscando el nodo que contenga ese valor.\n",
    "# Luego, ajusta los punteros del nodo anterior y siguiente para \"saltar\" el nodo eliminado.\n",
    "# En una lista simple, esto implica cambiar .siguiente del nodo anterior.\n",
    "# En una lista doble, también deberás ajustar el .anterior del nodo siguiente.\n"
   ]
  },
  {
   "cell_type": "markdown",
   "id": "712217d7",
   "metadata": {},
   "source": [
    "\n",
    "## Rúbrica de Evaluación (Total: 100 puntos)\n",
    "\n",
    "| Criterio                                              | Puntaje Máximo |\n",
    "|-------------------------------------------------------|----------------|\n",
    "| Estructura del código clara, organizada y funcional   | 20 pts         |\n",
    "| Implementación correcta de lista simple               | 20 pts         |\n",
    "| Implementación correcta de lista doble                | 20 pts         |\n",
    "| Inclusión de métodos: insertar, mostrar, eliminar     | 15 pts         |\n",
    "| Uso correcto de `__init__` en las clases              | 10 pts         |\n",
    "| Simulación realista con al menos 5 elementos por lista| 10 pts         |\n",
    "| Comentarios explicativos en el código                 | 5 pts          |\n",
    "| **Total**                                             | **100 pts**    |\n",
    "\n",
    "---\n",
    "\n",
    "### Recomendaciones\n",
    "\n",
    "- Comenta tu código donde sea necesario.\n",
    "- Verifica que las funciones se ejecuten correctamente.\n",
    "- Asegúrate de imprimir el estado de las estructuras para demostrar que funcionan.\n"
   ]
  },
  {
   "cell_type": "markdown",
   "id": "261fd15e",
   "metadata": {},
   "source": [
    "\n",
    "## Conclusión\n",
    "\n",
    "Este trabajo integra teoría, práctica y creatividad. Te permite comprobar la utilidad real de las listas enlazadas y demostrar tu comprensión sobre su aplicación, estructura y comportamiento.\n",
    "\n",
    "Una implementación clara y funcional será evidencia de que comprendes la lógica detrás de estas estructuras fundamentales.\n"
   ]
  }
 ],
 "metadata": {
  "kernelspec": {
   "display_name": "base",
   "language": "python",
   "name": "python3"
  },
  "language_info": {
   "codemirror_mode": {
    "name": "ipython",
    "version": 3
   },
   "file_extension": ".py",
   "mimetype": "text/x-python",
   "name": "python",
   "nbconvert_exporter": "python",
   "pygments_lexer": "ipython3",
   "version": "3.11.5"
  }
 },
 "nbformat": 4,
 "nbformat_minor": 5
}
