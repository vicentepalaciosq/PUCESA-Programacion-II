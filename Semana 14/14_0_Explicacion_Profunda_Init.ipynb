{
 "cells": [
  {
   "cell_type": "markdown",
   "id": "c02153b1",
   "metadata": {},
   "source": [
    "\n",
    "# Explicación Profunda del Método `__init__(self, dato)`\n",
    "\n",
    "Este notebook explica detalladamente cómo funciona el método `__init__` en Python, especialmente en el contexto de estructuras de datos como listas enlazadas. Se incluyen ejemplos prácticos, anotaciones conceptuales y ejercicios para afianzar el conocimiento.\n"
   ]
  },
  {
   "cell_type": "markdown",
   "id": "2cc5c698",
   "metadata": {},
   "source": [
    "\n",
    "## ¿Qué es `__init__`?\n",
    "\n",
    "`__init__` es un método especial en Python, también conocido como **constructor**. Se ejecuta automáticamente **cuando se crea una nueva instancia de una clase**.\n",
    "\n",
    "```python\n",
    "def __init__(self, parametro):\n",
    "    self.atributo = parametro\n",
    "```\n",
    "\n",
    "- `self`: referencia al propio objeto.\n",
    "- `parametro`: valor recibido al crear el objeto.\n",
    "- `self.atributo = parametro`: almacena ese valor en el objeto.\n",
    "\n",
    "Este método sirve para **inicializar los atributos** del objeto al momento de su creación.\n"
   ]
  },
  {
   "cell_type": "code",
   "execution_count": null,
   "id": "6b9fa45d",
   "metadata": {},
   "outputs": [],
   "source": [
    "\n",
    "class Nodo:\n",
    "    def __init__(self, dato):\n",
    "        self.dato = dato\n",
    "        self.siguiente = None\n",
    "\n",
    "n1 = Nodo(\"A\")\n",
    "print(\"Contenido del nodo:\", n1.dato)\n",
    "print(\"Puntero siguiente:\", n1.siguiente)\n"
   ]
  },
  {
   "cell_type": "markdown",
   "id": "566de0c6",
   "metadata": {},
   "source": [
    "\n",
    "## Análisis línea por línea\n",
    "\n",
    "```python\n",
    "class Nodo:\n",
    "```\n",
    "Define una clase llamada `Nodo`, que se usará para construir una lista enlazada.\n",
    "\n",
    "```python\n",
    "    def __init__(self, dato):\n",
    "```\n",
    "Este es el constructor de la clase. Se llama automáticamente al crear un nuevo objeto.\n",
    "\n",
    "```python\n",
    "        self.dato = dato\n",
    "```\n",
    "Asigna el valor recibido (`dato`) al atributo interno del objeto (`self.dato`).\n",
    "\n",
    "```python\n",
    "        self.siguiente = None\n",
    "```\n",
    "Inicializa el puntero al siguiente nodo como `None`, es decir, este nodo no está aún conectado a otro.\n",
    "\n",
    "---\n",
    "\n",
    "Resultado:\n",
    "- Se crea un nodo que guarda un dato.\n",
    "- El nodo apunta a `None`, lo que indica que es el último en la lista (por ahora).\n"
   ]
  },
  {
   "cell_type": "markdown",
   "id": "5fdbeae1",
   "metadata": {},
   "source": [
    "\n",
    "## Ejemplo con múltiples parámetros\n",
    "\n",
    "En muchos casos, un nodo o clase puede tener más de un atributo.\n",
    "\n",
    "```python\n",
    "class Documento:\n",
    "    def __init__(self, nombre, tamano):\n",
    "        self.nombre = nombre\n",
    "        self.tamano = tamano\n",
    "```\n",
    "\n",
    "```python\n",
    "doc1 = Documento(\"informe.pdf\", 120)\n",
    "print(doc1.nombre)   # informe.pdf\n",
    "print(doc1.tamano)   # 120\n",
    "```\n",
    "\n",
    "Esto permite crear estructuras más complejas y personalizadas.\n"
   ]
  },
  {
   "cell_type": "markdown",
   "id": "294d96c2",
   "metadata": {},
   "source": [
    "\n",
    "## Mini ejercicio\n",
    "\n",
    "Crea una clase llamada `Persona` que tenga tres atributos:\n",
    "- nombre\n",
    "- edad\n",
    "- correo\n",
    "\n",
    "Luego crea una instancia y muestra sus datos.\n"
   ]
  },
  {
   "cell_type": "code",
   "execution_count": null,
   "id": "71f18d2d",
   "metadata": {},
   "outputs": [],
   "source": [
    "\n",
    "# Tu código aquí\n",
    "class Persona:\n",
    "    def __init__(self, nombre, edad, correo):\n",
    "        self.nombre = nombre\n",
    "        self.edad = edad\n",
    "        self.correo = correo\n",
    "\n",
    "p1 = Persona(\"Ana\", 25, \"ana@correo.com\")\n",
    "print(p1.nombre, p1.edad, p1.correo)\n"
   ]
  }
 ],
 "metadata": {},
 "nbformat": 4,
 "nbformat_minor": 5
}
