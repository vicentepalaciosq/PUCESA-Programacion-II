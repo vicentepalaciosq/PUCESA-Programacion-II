{
 "cells": [
  {
   "cell_type": "markdown",
   "id": "5557bbfa",
   "metadata": {},
   "source": [
    "\n",
    "# Ejercicio Guiado: Listas Enlazadas Simples y Dobles\n",
    "\n",
    "Este notebook tiene como objetivo mostrar de forma práctica cómo se implementan y utilizan las listas enlazadas simples y dobles en Python, con énfasis en su estructura y diferencias operativas.\n",
    "\n",
    "A lo largo del ejercicio, se implementarán ambas estructuras desde cero para resaltar:\n",
    "- Cómo se enlazan los nodos.\n",
    "- Cómo se insertan y eliminan elementos.\n",
    "- Cómo se recorre la lista.\n",
    "\n",
    "---\n"
   ]
  },
  {
   "cell_type": "code",
   "execution_count": 1,
   "id": "6d46eb92",
   "metadata": {},
   "outputs": [],
   "source": [
    "\n",
    "# Implementación de Lista Enlazada Simple\n",
    "\n",
    "class NodoSimple:\n",
    "    def __init__(self, dato):\n",
    "        self.dato = dato\n",
    "        self.siguiente = None\n",
    "\n",
    "class ListaSimple:\n",
    "    def __init__(self):\n",
    "        self.cabeza = None\n",
    "\n",
    "    def insertar_al_final(self, dato):\n",
    "        nuevo = NodoSimple(dato)\n",
    "        if not self.cabeza:\n",
    "            self.cabeza = nuevo\n",
    "        else:\n",
    "            actual = self.cabeza\n",
    "            while actual.siguiente:\n",
    "                actual = actual.siguiente\n",
    "            actual.siguiente = nuevo\n",
    "\n",
    "    def mostrar(self):\n",
    "        actual = self.cabeza\n",
    "        while actual:\n",
    "            print(f\"[{actual.dato}]\", end=\" -> \")\n",
    "            actual = actual.siguiente\n",
    "        print(\"NULL\")\n"
   ]
  },
  {
   "cell_type": "code",
   "execution_count": 2,
   "id": "f5aab857",
   "metadata": {},
   "outputs": [
    {
     "name": "stdout",
     "output_type": "stream",
     "text": [
      "[A] -> [B] -> [C] -> NULL\n"
     ]
    }
   ],
   "source": [
    "\n",
    "# Uso de la Lista Enlazada Simple\n",
    "\n",
    "lista = ListaSimple()\n",
    "lista.insertar_al_final(\"A\")\n",
    "lista.insertar_al_final(\"B\")\n",
    "lista.insertar_al_final(\"C\")\n",
    "lista.mostrar()\n"
   ]
  },
  {
   "cell_type": "code",
   "execution_count": 3,
   "id": "3bceeb0c",
   "metadata": {},
   "outputs": [],
   "source": [
    "\n",
    "# Implementación de Lista Enlazada Doble\n",
    "\n",
    "class NodoDoble:\n",
    "    def __init__(self, dato):\n",
    "        self.dato = dato\n",
    "        self.anterior = None\n",
    "        self.siguiente = None\n",
    "\n",
    "class ListaDoble:\n",
    "    def __init__(self):\n",
    "        self.cabeza = None\n",
    "\n",
    "    def insertar_al_final(self, dato):\n",
    "        nuevo = NodoDoble(dato)\n",
    "        if not self.cabeza:\n",
    "            self.cabeza = nuevo\n",
    "        else:\n",
    "            actual = self.cabeza\n",
    "            while actual.siguiente:\n",
    "                actual = actual.siguiente\n",
    "            actual.siguiente = nuevo\n",
    "            nuevo.anterior = actual\n",
    "\n",
    "    def mostrar_adelante(self):\n",
    "        actual = self.cabeza\n",
    "        while actual:\n",
    "            print(f\"[{actual.dato}]\", end=\" <-> \")\n",
    "            ultimo = actual\n",
    "            actual = actual.siguiente\n",
    "        print(\"NULL\")\n",
    "\n",
    "    def mostrar_atras(self):\n",
    "        # Muestra desde el final hacia el inicio\n",
    "        actual = self.cabeza\n",
    "        while actual and actual.siguiente:\n",
    "            actual = actual.siguiente\n",
    "        while actual:\n",
    "            print(f\"[{actual.dato}]\", end=\" <-> \")\n",
    "            actual = actual.anterior\n",
    "        print(\"NULL\")\n"
   ]
  },
  {
   "cell_type": "code",
   "execution_count": 4,
   "id": "174421ad",
   "metadata": {},
   "outputs": [
    {
     "name": "stdout",
     "output_type": "stream",
     "text": [
      "Recorrido hacia adelante:\n",
      "[A] <-> [B] <-> [C] <-> NULL\n",
      "Recorrido hacia atrás:\n",
      "[C] <-> [B] <-> [A] <-> NULL\n"
     ]
    }
   ],
   "source": [
    "\n",
    "# Uso de la Lista Enlazada Doble\n",
    "\n",
    "lista = ListaDoble()\n",
    "lista.insertar_al_final(\"A\")\n",
    "lista.insertar_al_final(\"B\")\n",
    "lista.insertar_al_final(\"C\")\n",
    "\n",
    "print(\"Recorrido hacia adelante:\")\n",
    "lista.mostrar_adelante()\n",
    "\n",
    "print(\"Recorrido hacia atrás:\")\n",
    "lista.mostrar_atras()\n"
   ]
  },
  {
   "cell_type": "markdown",
   "id": "75e070c1",
   "metadata": {},
   "source": [
    "\n",
    "## Reflexión y Comparación\n",
    "\n",
    "- Ambas estructuras permiten insertar elementos dinámicamente.\n",
    "- La lista simple permite solo recorrido hacia adelante.\n",
    "- La lista doble permite navegar en ambas direcciones, lo que puede ser útil en estructuras como historial de navegación o edición.\n",
    "\n"
   ]
  }
 ],
 "metadata": {
  "kernelspec": {
   "display_name": "base",
   "language": "python",
   "name": "python3"
  },
  "language_info": {
   "codemirror_mode": {
    "name": "ipython",
    "version": 3
   },
   "file_extension": ".py",
   "mimetype": "text/x-python",
   "name": "python",
   "nbconvert_exporter": "python",
   "pygments_lexer": "ipython3",
   "version": "3.11.5"
  }
 },
 "nbformat": 4,
 "nbformat_minor": 5
}
