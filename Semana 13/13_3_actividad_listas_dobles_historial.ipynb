{
 "cells": [
  {
   "cell_type": "markdown",
   "id": "28178411",
   "metadata": {},
   "source": [
    "# Ejercicio de Clase: Historial de Navegación con Listas Enlazadas Dobles\n",
    "\n",
    "## Objetivo\n",
    "\n",
    "Implementar una estructura de lista enlazada doble que simule un historial de navegación, permitiendo al usuario avanzar y retroceder entre páginas, tal como lo haría un navegador web.\n"
   ]
  },
  {
   "cell_type": "markdown",
   "id": "8ea9cd4a",
   "metadata": {},
   "source": [
    "## Descripción del Problema\n",
    "\n",
    "Diseña una clase llamada `HistorialNavegador` que permita:\n",
    "\n",
    "1. Visitar una nueva página (`visitar_pagina(url)`)\n",
    "2. Ir a la página anterior (`atras()`)\n",
    "3. Ir a la página siguiente (`adelante()`)\n",
    "4. Mostrar el historial completo (`mostrar_historial()`)\n",
    "5. Mostrar la página actual (`pagina_actual()`)\n",
    "\n",
    "Cada vez que se visita una nueva página, si el usuario no está al final del historial, las páginas siguientes deben eliminarse.\n",
    "\n",
    "Utiliza una lista enlazada doble para implementar el historial.\n"
   ]
  },
  {
   "cell_type": "markdown",
   "id": "fcea2a77",
   "metadata": {},
   "source": [
    "## Recomendación\n",
    "\n",
    "Puedes basarte en la siguiente estructura:\n",
    "\n",
    "```python\n",
    "class NodoDoble:\n",
    "    def __init__(self, dato):\n",
    "        self.dato = dato\n",
    "        self.anterior = None\n",
    "        self.siguiente = None\n",
    "```\n",
    "\n",
    "La clase `HistorialNavegador` debe mantener una referencia al nodo actual y permitir desplazamientos.\n"
   ]
  },
  {
   "cell_type": "markdown",
   "id": "1154dde8",
   "metadata": {},
   "source": [
    "## Espacio de Implementación\n",
    "\n",
    "Completa el siguiente código:\n"
   ]
  },
  {
   "cell_type": "code",
   "execution_count": 1,
   "id": "eccbefc3",
   "metadata": {},
   "outputs": [],
   "source": [
    "# Clase NodoDoble\n",
    "class NodoDoble:\n",
    "    def __init__(self, dato):\n",
    "        self.dato = dato\n",
    "        self.anterior = None\n",
    "        self.siguiente = None\n",
    "\n",
    "# Clase HistorialNavegador\n",
    "class HistorialNavegador:\n",
    "    def __init__(self):\n",
    "        self.actual = None  # Nodo donde se encuentra el usuario\n",
    "\n",
    "    def visitar_pagina(self, url):\n",
    "        # TODO: implementar lógica de visita\n",
    "        pass\n",
    "\n",
    "    def atras(self):\n",
    "        # TODO: implementar lógica para retroceder\n",
    "        pass\n",
    "\n",
    "    def adelante(self):\n",
    "        # TODO: implementar lógica para avanzar\n",
    "        pass\n",
    "\n",
    "    def mostrar_historial(self):\n",
    "        # TODO: mostrar todo el historial desde el principio hasta la página actual\n",
    "        pass\n",
    "\n",
    "    def pagina_actual(self):\n",
    "        # TODO: retornar la página actual\n",
    "        pass\n"
   ]
  },
  {
   "cell_type": "markdown",
   "id": "83a97b42",
   "metadata": {},
   "source": [
    "## Ejemplo de Prueba\n",
    "\n",
    "Prueba tu código con el siguiente bloque:\n"
   ]
  },
  {
   "cell_type": "code",
   "execution_count": 2,
   "id": "54e68862",
   "metadata": {},
   "outputs": [
    {
     "name": "stdout",
     "output_type": "stream",
     "text": [
      "Página actual: None\n"
     ]
    }
   ],
   "source": [
    "nav = HistorialNavegador()\n",
    "\n",
    "nav.visitar_pagina(\"google.com\")\n",
    "nav.visitar_pagina(\"openai.com\")\n",
    "nav.visitar_pagina(\"github.com\")\n",
    "\n",
    "nav.atras()\n",
    "nav.atras()\n",
    "\n",
    "nav.visitar_pagina(\"stackoverflow.com\")\n",
    "\n",
    "nav.mostrar_historial()\n",
    "print(\"Página actual:\", nav.pagina_actual())\n"
   ]
  },
  {
   "cell_type": "markdown",
   "id": "b9ab5060",
   "metadata": {},
   "source": [
    "## Criterios de Evaluación\n",
    "\n",
    "| Criterio                                       | Puntos |\n",
    "|------------------------------------------------|--------|\n",
    "| Implementación de la clase `NodoDoble`         | 10     |\n",
    "| Implementación de la clase `HistorialNavegador`| 10     |\n",
    "| Función `visitar_pagina()` funciona correctamente | 25     |\n",
    "| Función `atras()` y `adelante()` bien implementadas | 20     |\n",
    "| Función `mostrar_historial()` funcional        | 10     |\n",
    "| Función `pagina_actual()` funcional            | 10     |\n",
    "| Código legible y comentado                     | 10     |\n",
    "| Ejemplo ejecutado correctamente                | 5      |\n",
    "| **Total**                                      | **100**|\n"
   ]
  }
 ],
 "metadata": {
  "kernelspec": {
   "display_name": "base",
   "language": "python",
   "name": "python3"
  },
  "language_info": {
   "codemirror_mode": {
    "name": "ipython",
    "version": 3
   },
   "file_extension": ".py",
   "mimetype": "text/x-python",
   "name": "python",
   "nbconvert_exporter": "python",
   "pygments_lexer": "ipython3",
   "version": "3.11.5"
  }
 },
 "nbformat": 4,
 "nbformat_minor": 5
}
