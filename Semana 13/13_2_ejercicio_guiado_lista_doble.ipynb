{
 "cells": [
  {
   "cell_type": "markdown",
   "id": "a5c41aa5",
   "metadata": {},
   "source": [
    "# Ejercicio Guiado: Listas Enlazadas Dobles\n",
    "\n",
    "## Objetivo\n",
    "\n",
    "Comprender el funcionamiento y las ventajas de las listas enlazadas dobles mediante la implementación paso a paso de una estructura que permita insertar elementos, recorrer en ambos sentidos y eliminar nodos. Este tipo de estructura es útil cuando se necesita manipular elementos desde ambos extremos o desplazarse hacia adelante y hacia atrás, como en un historial de navegación o un editor de texto con funciones de deshacer/rehacer.\n"
   ]
  },
  {
   "cell_type": "markdown",
   "id": "f7266b2c",
   "metadata": {},
   "source": [
    "## Paso 1: Crear la clase NodoDoble\n",
    "\n",
    "Cada nodo debe contener:\n",
    "- El dato que almacena.\n",
    "- Un puntero al nodo anterior.\n",
    "- Un puntero al nodo siguiente.\n"
   ]
  },
  {
   "cell_type": "code",
   "execution_count": 17,
   "id": "8dc00f56",
   "metadata": {},
   "outputs": [],
   "source": [
    "class NodoDoble:\n",
    "    def __init__(self, dato):\n",
    "        self.dato = dato            # Dato almacenado\n",
    "        self.anterior = None        # Referencia al nodo anterior\n",
    "        self.siguiente = None       # Referencia al nodo siguiente\n"
   ]
  },
  {
   "cell_type": "markdown",
   "id": "fe0cedee",
   "metadata": {},
   "source": [
    "## Paso 2: Crear la clase ListaDobleEnlazada\n",
    "\n",
    "Esta clase contendrá un puntero a la cabeza (primer nodo). Podemos agregar métodos para insertar, recorrer y eliminar nodos.\n"
   ]
  },
  {
   "cell_type": "markdown",
   "id": "25607366",
   "metadata": {},
   "source": [
    "## Paso 3: Método para insertar al inicio\n",
    "\n",
    "Este método crea un nuevo nodo y lo coloca al comienzo de la lista.\n"
   ]
  },
  {
   "cell_type": "markdown",
   "id": "e1281199",
   "metadata": {},
   "source": [
    "## Paso 4: Método para recorrer hacia adelante\n",
    "\n",
    "Imprime todos los elementos desde la cabeza hasta el final.\n"
   ]
  },
  {
   "cell_type": "markdown",
   "id": "d798f1eb",
   "metadata": {},
   "source": [
    "## Paso 5: Método para recorrer hacia atrás\n",
    "\n",
    "Partiendo desde el último nodo, se imprime hacia atrás.\n"
   ]
  },
  {
   "cell_type": "code",
   "execution_count": 18,
   "id": "866496b9",
   "metadata": {},
   "outputs": [],
   "source": [
    "class ListaDobleEnlazada:\n",
    "    def __init__(self):\n",
    "        # La cabeza apunta al primer nodo de la lista. Al inicio está vacía.\n",
    "        self.cabeza = None\n",
    "\n",
    "    def insertar_inicio(self, dato):\n",
    "        # Crea un nuevo nodo con el dato recibido\n",
    "        nuevo = NodoDoble(dato)\n",
    "        # El nuevo nodo apunta como siguiente al que era la cabeza\n",
    "        nuevo.siguiente = self.cabeza\n",
    "        # Si la lista no está vacía, el nodo que era cabeza apunta hacia atrás al nuevo nodo\n",
    "        if self.cabeza is not None:\n",
    "            self.cabeza.anterior = nuevo\n",
    "        # Ahora la cabeza de la lista es el nuevo nodo\n",
    "        self.cabeza = nuevo\n",
    "\n",
    "    def recorrer_adelante(self):\n",
    "        # Comienza desde la cabeza de la lista\n",
    "        actual = self.cabeza\n",
    "        # Recorre la lista mientras haya nodos\n",
    "        while actual is not None:\n",
    "            print(actual.dato, end=\" <-> \")  # Imprime el dato del nodo\n",
    "            actual = actual.siguiente        # Avanza al siguiente nodo\n",
    "        print(\"None\")  # Indica el final de la lista\n",
    "\n",
    "    def recorrer_atras(self):\n",
    "        # Comienza desde la cabeza de la lista\n",
    "        actual = self.cabeza\n",
    "        if actual is None:\n",
    "            print(\"Lista vacía\")\n",
    "            return\n",
    "        # Avanza hasta el último nodo de la lista\n",
    "        while actual.siguiente is not None:\n",
    "            actual = actual.siguiente\n",
    "        # Desde el último nodo, recorre hacia atrás usando el puntero 'anterior'\n",
    "        while actual is not None:\n",
    "            print(actual.dato, end=\" <-> \")  # Imprime el dato del nodo\n",
    "            actual = actual.anterior         # Retrocede al nodo anterior\n",
    "        print(\"None\")  # Indica el inicio"
   ]
  },
  {
   "cell_type": "markdown",
   "id": "4f6b01e2",
   "metadata": {},
   "source": [
    "## Paso 6: Probar la lista\n",
    "\n",
    "Creamos una instancia de la lista, insertamos algunos elementos y probamos los métodos.\n"
   ]
  },
  {
   "cell_type": "code",
   "execution_count": 20,
   "id": "3c40201e",
   "metadata": {},
   "outputs": [
    {
     "name": "stdout",
     "output_type": "stream",
     "text": [
      "Recorrido hacia adelante:\n",
      "30 <-> 20 <-> 10 <-> None\n",
      "Recorrido hacia atrás:\n",
      "10 <-> 20 <-> 30 <-> None\n"
     ]
    }
   ],
   "source": [
    "# Crear instancia\n",
    "lista = ListaDobleEnlazada()\n",
    "\n",
    "# Insertar elementos\n",
    "lista.insertar_inicio(10)\n",
    "lista.insertar_inicio(20)\n",
    "lista.insertar_inicio(30)\n",
    "\n",
    "# Recorrer hacia adelante\n",
    "print(\"Recorrido hacia adelante:\")\n",
    "lista.recorrer_adelante()\n",
    "\n",
    "# Recorrer hacia atrás\n",
    "print(\"Recorrido hacia atrás:\")\n",
    "lista.recorrer_atras()\n"
   ]
  }
 ],
 "metadata": {
  "kernelspec": {
   "display_name": "base",
   "language": "python",
   "name": "python3"
  },
  "language_info": {
   "codemirror_mode": {
    "name": "ipython",
    "version": 3
   },
   "file_extension": ".py",
   "mimetype": "text/x-python",
   "name": "python",
   "nbconvert_exporter": "python",
   "pygments_lexer": "ipython3",
   "version": "3.11.5"
  }
 },
 "nbformat": 4,
 "nbformat_minor": 5
}
