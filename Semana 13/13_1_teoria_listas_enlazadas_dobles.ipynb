{
 "cells": [
  {
   "cell_type": "markdown",
   "id": "73410aa7",
   "metadata": {},
   "source": [
    "# Clase Teórica: Listas Enlazadas Dobles\n",
    "\n",
    "## Introducción\n",
    "\n",
    "En estructuras de datos, ya hemos abordado las pilas (LIFO) y las colas (FIFO), donde el acceso y manipulación de los elementos sigue una secuencia controlada desde uno o ambos extremos. Sin embargo, existen situaciones donde se requiere un mayor control sobre el recorrido de la estructura, especialmente cuando necesitamos movernos hacia adelante o hacia atrás dentro de los elementos o insertar y eliminar elementos desde cualquier posición de forma eficiente.\n",
    "\n",
    "Para estos casos, una estructura especialmente útil es la Lista Enlazada Doble (Doubly Linked List), una variante más versátil que la lista enlazada simple. Esta estructura amplía las posibilidades de manejo de datos con mayor flexibilidad, lo que la hace clave en múltiples escenarios computacionales.\n"
   ]
  },
  {
   "cell_type": "markdown",
   "id": "1a715040",
   "metadata": {},
   "source": [
    "## ¿Qué es una Lista Enlazada Doble?\n",
    "\n",
    "Una lista enlazada doble es una colección ordenada de nodos, en la cual cada nodo contiene tres componentes:\n",
    "\n",
    "1. Dato: el valor almacenado.\n",
    "2. Puntero al nodo anterior.\n",
    "3. Puntero al nodo siguiente.\n",
    "\n",
    "A diferencia de una lista enlazada simple, donde cada nodo apunta solo al siguiente, en una lista doble cada nodo conoce a sus vecinos anteriores y posteriores. Esto permite desplazamientos en ambas direcciones.\n",
    "\n",
    "Representación gráfica:\n",
    "\n",
    "NULL <- [Dato|Prev|Next] <-> [Dato|Prev|Next] <-> [Dato|Prev|Next] -> NULL\n"
   ]
  },
  {
   "cell_type": "markdown",
   "id": "4fcb01ee",
   "metadata": {},
   "source": [
    "\n",
    "representa de forma esquemática una **lista enlazada doble**. A continuación se explica cada parte:\n",
    "\n",
    "## Estructura general\n",
    "\n",
    "Cada bloque `[Dato|Prev|Next]` representa un **nodo** de la lista, compuesto por:\n",
    "\n",
    "- `Dato`: el valor almacenado en ese nodo.\n",
    "- `Prev`: un puntero que apunta al nodo anterior.\n",
    "- `Next`: un puntero que apunta al nodo siguiente.\n",
    "\n",
    "## Descripción paso a paso\n",
    "\n",
    "1. `NULL <-`  \n",
    "   Esto indica que el primer nodo de la lista **no tiene nodo anterior**, por lo tanto su puntero `Prev` apunta a `NULL` (es decir, a nada). En Python esto sería `None`.\n",
    "\n",
    "2. `[Dato|Prev|Next] <-> [Dato|Prev|Next] <-> [Dato|Prev|Next]`  \n",
    "   Representa tres nodos conectados doblemente:\n",
    "   - Cada nodo está conectado con el anterior mediante `Prev`.\n",
    "   - Y con el siguiente mediante `Next`.\n",
    "   - El símbolo `<->` indica esta conexión bidireccional entre nodos.\n",
    "\n",
    "3. `-> NULL`  \n",
    "   El último nodo **no tiene nodo siguiente**, por lo tanto su puntero `Next` apunta a `NULL` (o `None` en Python).\n",
    "\n",
    "## ¿Qué permite esta estructura?\n",
    "\n",
    "- Recorrer la lista **hacia adelante** desde el primer nodo hasta el último (siguiendo los punteros `Next`).\n",
    "- Recorrer la lista **hacia atrás** desde el último nodo hasta el primero (siguiendo los punteros `Prev`).\n",
    "\n",
    "Este doble enlace es la principal diferencia con las listas enlazadas simples, que solo permiten recorrido en una sola dirección.\n",
    "\n",
    "## ¿Qué es un puntero?\n",
    "\n",
    "En programación, un **puntero** es una variable especial que no guarda un valor directamente, sino que **apunta** a la dirección de otro objeto o nodo en memoria.\n",
    "\n",
    "En Python, no usamos punteros explícitos como en C o C++, pero **usamos referencias a objetos**, lo cual cumple la misma función. Es decir, cuando decimos que `nodo.siguiente = otro_nodo`, estamos guardando la **referencia** a `otro_nodo` dentro del atributo `siguiente`.\n",
    "\n",
    "\n",
    "\n",
    "## Ejemplo en Python con 3 nodos\n",
    "\n",
    "```python\n",
    "class NodoDoble:\n",
    "    def __init__(self, dato):\n",
    "        self.dato = dato\n",
    "        self.anterior = None\n",
    "        self.siguiente = None\n",
    "\n",
    "# Crear nodos\n",
    "nodo1 = NodoDoble(\"A\")\n",
    "nodo2 = NodoDoble(\"B\")\n",
    "nodo3 = NodoDoble(\"C\")\n",
    "\n",
    "# Enlazar nodos\n",
    "nodo1.siguiente = nodo2\n",
    "nodo2.anterior = nodo1\n",
    "nodo2.siguiente = nodo3\n",
    "nodo3.anterior = nodo2\n",
    "```\n",
    "___\n"
   ]
  },
  {
   "cell_type": "markdown",
   "id": "fbef2a41",
   "metadata": {},
   "source": [
    "## ¿Por qué usar listas enlazadas dobles?\n",
    "\n",
    "Algunas características clave que justifican su uso:\n",
    "\n",
    "- Permiten recorridos bidireccionales: se puede navegar tanto hacia adelante como hacia atrás.\n",
    "- Hacen más eficiente la eliminación de nodos desde cualquier punto de la lista, sin necesidad de recorrer desde el principio.\n",
    "- Facilitan la implementación de funcionalidades como “deshacer/repetir” o historial de navegación.\n",
    "- Son ideales cuando los datos se modifican de forma frecuente, ya que no requieren mover los elementos adyacentes, como sucede en una lista estática (como list en Python).\n"
   ]
  },
  {
   "cell_type": "markdown",
   "id": "623390ef",
   "metadata": {},
   "source": [
    "## Componentes de una Lista Enlazada Doble\n",
    "\n",
    "### Nodo Doble\n",
    "\n",
    "```python\n",
    "class NodoDoble:\n",
    "    def __init__(self, dato):\n",
    "        self.dato = dato\n",
    "        self.anterior = None\n",
    "        self.siguiente = None\n",
    "```\n",
    "\n",
    "### ListaDobleEnlazada\n",
    "\n",
    "```python\n",
    "class ListaDobleEnlazada:\n",
    "    def __init__(self):\n",
    "        self.cabeza = None\n",
    "```\n"
   ]
  },
  {
   "cell_type": "markdown",
   "id": "a88f809c",
   "metadata": {},
   "source": [
    "## Operaciones Fundamentales\n",
    "\n",
    "1. Insertar al inicio\n",
    "2. Insertar al final\n",
    "3. Eliminar al inicio\n",
    "4. Eliminar al final\n",
    "5. Recorrer hacia adelante y hacia atrás\n"
   ]
  },
  {
   "cell_type": "markdown",
   "id": "137ecd27",
   "metadata": {},
   "source": [
    "## Comparación con otras estructuras lineales\n",
    "\n",
    "| Característica                         | Lista Simple | Lista Doble | Lista Python (list) |\n",
    "|----------------------------------------|--------------|-------------|---------------------|\n",
    "| Recorrido hacia atrás                  | No           | Sí          | Sí                  |\n",
    "| Inserción/eliminación al inicio        | Sí           | Sí          | No                  |\n",
    "| Inserción/eliminación al final         | Sí (menos eficiente) | Sí | Sí           |\n",
    "| Inserción intermedia eficiente         | No           | Sí          | No                  |\n",
    "| Acceso por índice                      | No           | No          | Sí                  |\n",
    "| Uso de memoria (referencias adicionales) | No         | Sí          | Sí                  |\n"
   ]
  },
  {
   "cell_type": "markdown",
   "id": "64f2fe56",
   "metadata": {},
   "source": [
    "## Ejemplo Práctico\n",
    "\n",
    "Supongamos que insertamos los valores 10, 20, 30:\n",
    "\n",
    "NULL <- [10] <-> [20] <-> [30] -> NULL\n",
    "\n",
    "- La cabeza es 10.\n",
    "- El nodo 20 tiene anterior = 10 y siguiente = 30.\n",
    "- El nodo 30 apunta atrás hacia 20, y su siguiente es None.\n",
    "\n",
    "Recorrido hacia adelante: 10 → 20 → 30  \n",
    "Recorrido hacia atrás: 30 → 20 → 10\n"
   ]
  },
  {
   "cell_type": "markdown",
   "id": "7d6495ab",
   "metadata": {},
   "source": [
    "## Aplicaciones en la vida real\n",
    "\n",
    "| Aplicación                  | Justificación del uso de Lista Doble |\n",
    "|----------------------------|---------------------------------------|\n",
    "| Historial de navegador     | Se puede ir hacia adelante y atrás.  |\n",
    "| Edición de texto (Ctrl+Z / Ctrl+Y) | Se necesita acceder al estado anterior y siguiente. |\n",
    "| Reproductor de música      | Siguiente pista / pista anterior.    |\n",
    "| Simuladores                | Permiten simulaciones bidireccionales, como en una fila circular. |\n"
   ]
  },
  {
   "cell_type": "markdown",
   "id": "14cb8159",
   "metadata": {},
   "source": [
    "## Ventajas\n",
    "\n",
    "- Permite recorrido en ambas direcciones.\n",
    "- Inserciones y eliminaciones más rápidas en el medio.\n",
    "- Ideal para estructuras dinámicas con movimiento complejo de nodos.\n",
    "\n",
    "## Desventajas\n",
    "\n",
    "- Consume más memoria (dos punteros por nodo).\n",
    "- Mayor complejidad en su implementación.\n",
    "- Posibles errores si los punteros no se actualizan correctamente.\n"
   ]
  },
  {
   "cell_type": "markdown",
   "id": "18379efc",
   "metadata": {},
   "source": [
    "## Reflexión para la clase\n",
    "\n",
    "¿Qué estructura es más eficiente para un editor de texto que permite deshacer y rehacer múltiples acciones?\n",
    "\n",
    "¿Una pila? ¿Una cola? ¿O una lista enlazada doble?\n",
    "\n",
    "Respuesta sugerida: Una lista enlazada doble permite recorrer hacia atrás (deshacer) y luego rehacer (adelante), algo que ni pilas ni colas permiten tan fácilmente sin reconfigurar toda la estructura.\n"
   ]
  }
 ],
 "metadata": {
  "language_info": {
   "name": "python"
  }
 },
 "nbformat": 4,
 "nbformat_minor": 5
}
