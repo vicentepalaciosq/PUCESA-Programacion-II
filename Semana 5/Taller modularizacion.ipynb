{
 "cells": [
  {
   "cell_type": "markdown",
   "id": "7e0fae0c",
   "metadata": {},
   "source": [
    "# 🧠 Sistema de Gestión de Biblioteca Personal\n",
    "\n",
    "**Objetivo**: Desarrollar un sistema modularizado en Python para registrar libros y gestionar préstamos a lectores."
   ]
  },
  {
   "cell_type": "markdown",
   "id": "32f8f96a",
   "metadata": {},
   "source": [
    "\n",
    "## Instrucciones\n",
    "- Crear una clase `Libro`.\n",
    "- Implementar funciones para registrar libros, registrar préstamos, buscar libros y mostrar información.\n",
    "- Utilizar un menú principal para interactuar con el sistema.\n"
   ]
  },
  {
   "cell_type": "markdown",
   "id": "851aad81",
   "metadata": {},
   "source": [
    "\n",
    "## Estructura sugerida del proyecto\n",
    "```\n",
    "biblioteca_personal/\n",
    "├── main.py              # Menú principal y flujo del programa\n",
    "├── libro.py             # Clase Libro\n",
    "└── funciones.py         # Funciones auxiliares (registrar, buscar, prestar, mostrar)\n",
    "```\n"
   ]
  },
  {
   "cell_type": "markdown",
   "id": "da710cda",
   "metadata": {},
   "source": [
    "\n",
    "## 📚 Clase Libro (archivo: libro.py)\n",
    "Crear una clase llamada `Libro` que contenga:\n",
    "- Atributos: título, autor, ISBN, género, lista de préstamos.\n",
    "- Método para agregar un préstamo.\n",
    "- Método para mostrar toda la información del libro y su historial de préstamos.\n"
   ]
  },
  {
   "cell_type": "markdown",
   "id": "6fdb8cde",
   "metadata": {},
   "source": [
    "\n",
    "## 🔧 Funciones Auxiliares (archivo: funciones.py)\n",
    "Crear funciones para:\n",
    "- Registrar un nuevo libro (verificar que el ISBN no se repita).\n",
    "- Buscar un libro por ISBN.\n",
    "- Registrar un préstamo a un lector.\n",
    "- Mostrar los datos completos de un libro.\n",
    "- Mostrar todos los libros registrados.\n"
   ]
  },
  {
   "cell_type": "markdown",
   "id": "5982a372",
   "metadata": {},
   "source": [
    "\n",
    "## 📋 Menú Principal (archivo: main.py)\n",
    "Crear un menú que permita:\n",
    "1. Registrar un nuevo libro\n",
    "2. Registrar un préstamo\n",
    "3. Mostrar información de un libro\n",
    "4. Mostrar todos los libros\n",
    "5. Salir del sistema\n",
    "\n",
    "Utilizar un bucle while para mantener el programa en ejecución hasta que el usuario decida salir.\n"
   ]
  },
  {
   "cell_type": "markdown",
   "id": "59265d10",
   "metadata": {},
   "source": [
    "\n",
    "## 📄 Entregable Final\n",
    "- Código completo del proyecto organizado en los 3 archivos.\n",
    "- Informe técnico que incluya:\n",
    "  - Portada (nombre estudiante, curso, docente, fecha)\n",
    "  - Introducción (objetivo y contexto)\n",
    "  - Desarrollo (estructura de archivos, descripción de la clase y funciones, capturas de ejecución)\n",
    "  - Conclusiones (aprendizajes, dificultades, mejoras futuras)\n",
    "  - Anexos opcionales (fragmentos de código, observaciones)\n"
   ]
  },
  {
   "cell_type": "markdown",
   "id": "e275cb6e",
   "metadata": {},
   "source": [
    "\n",
    "## 📏 Rúbrica de Evaluación (sobre 50 puntos)\n",
    "\n",
    "| Criterio | Descripción | Puntos |\n",
    "|:--|:--|:--|\n",
    "| 1. Estructura del proyecto | Uso correcto de 3 archivos: clase, funciones y main | 10 pts |\n",
    "| 2. Implementación de clase | Clase Libro bien definida con atributos y métodos | 10 pts |\n",
    "| 3. Registro de libros | Permite ingresar nuevos libros correctamente | 5 pts |\n",
    "| 4. Registro de préstamos | Permite agregar varios préstamos a cada libro | 5 pts |\n",
    "| 5. Búsqueda y visualización | Busca por ISBN y muestra información + historial correctamente | 5 pts |\n",
    "| 6. Mostrar todos los libros | Muestra correctamente todos los libros registrados | 5 pts |\n",
    "| 7. Menú funcional | Menú claro y mantiene el programa activo hasta salir | 5 pts |\n",
    "| 8. Legibilidad y organización | Código limpio, comentado, y de fácil lectura | 3 pts |\n",
    "| 9. Validaciones básicas | Manejo de errores como ISBN repetido o datos inválidos | 2 pts |\n",
    "\n",
    "**Total: 50 puntos**\n"
   ]
  },
  {
   "cell_type": "markdown",
   "id": "322a0ddc",
   "metadata": {},
   "source": [
    "\n",
    "## ✅ Recomendaciones\n",
    "- Escribir el código limpio y comentado.\n",
    "- Validar entradas para evitar errores.\n",
    "- Utilizar buenas prácticas de programación.\n",
    "- Redactar el informe con sus propias palabras.\n"
   ]
  }
 ],
 "metadata": {},
 "nbformat": 4,
 "nbformat_minor": 5
}
