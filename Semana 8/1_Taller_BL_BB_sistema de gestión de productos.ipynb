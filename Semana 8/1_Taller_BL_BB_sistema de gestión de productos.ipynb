{
 "cells": [
  {
   "cell_type": "markdown",
   "id": "2b3ae753",
   "metadata": {},
   "source": [
    "## Ejercicio en Clase: \"Sistema de Búsqueda de Productos para una Tienda Virtual\"\n",
    "# Enunciado\n",
    "\n",
    "Una tienda virtual necesita desarrollar un módulo para que sus usuarios puedan buscar productos en su catálogo digital. Este catálogo es una lista de nombres de productos. El equipo de desarrollo te ha encargado implementar este módulo y documentar su funcionamiento.\n",
    "\n",
    "## Parte 1: Explicación conceptual (teórica)\n",
    "\n",
    "Antes de escribir el código, redacta en una celda Markdown (o comentario al inicio del script):\n",
    "\n",
    "1. ¿Qué es la búsqueda lineal? ¿Cómo funciona?\n",
    "2. ¿Qué es la búsqueda binaria? ¿Qué condición especial debe cumplir la lista?\n",
    "3. ¿En qué casos conviene usar cada una?\n",
    "\n",
    "- Nota: Tu explicación debe ser clara, breve (máximo 150 palabras por tipo), y demostrar comprensión de los conceptos.\n",
    "\n",
    "## Parte 2: Desarrollo práctico (en Python)\n",
    "\n",
    "Desarrolla un programa en Python que cumpla con los siguientes requerimientos:\n",
    "\n",
    "1. Crea una lista con al menos 20 nombres de productos.\n",
    "\n",
    "2. Solicita al usuario que ingrese el nombre de un producto a buscar.\n",
    "\n",
    "3. Implementa dos funciones:\n",
    "    * Una que realice búsqueda lineal.\n",
    "    * Otra que realice búsqueda binaria (debes ordenar la lista previamente).\n",
    "\n",
    "4. Muestra:\n",
    "    * Si el producto fue encontrado.\n",
    "    * En qué posición se encuentra.\n",
    "    * Cuántas comparaciones se hicieron en cada método.\n",
    "\n",
    "## Extras:\n",
    "* Permitir al usuario hacer varias búsquedas (usando un ciclo).\n",
    "* Validar si el usuario deja la entrada vacía.\n",
    "* Mostrar al final un resumen de todas las búsquedas realizadas.\n",
    "\n",
    "## Rúbrica de Evaluación (Total: 7.5 puntos)\n",
    "| Criterio                                                          | Puntos  |\n",
    "| ----------------------------------------------------------------- | ------- |\n",
    "| ✅ Explicación teórica clara y correcta de ambos algoritmos        | 1.5     |\n",
    "| ✅ Lista de productos correctamente creada                         | 1.0     |\n",
    "| ✅ Implementación funcional de búsqueda lineal                     | 1.0     |\n",
    "| ✅ Implementación funcional de búsqueda binaria                    | 1.0     |\n",
    "| ✅ Comparación de resultados y claridad en la presentación         | 1.0     |\n",
    "| ✅ Interfaz de usuario funcional, con mensajes claros              | 0.5     |\n",
    "| ✅ Extras implementados correctamente (ciclo, validación, resumen) | 1.5     |\n",
    "| **Total**                                                         | **7.5** |\n"
   ]
  }
 ],
 "metadata": {
  "language_info": {
   "name": "python"
  }
 },
 "nbformat": 4,
 "nbformat_minor": 5
}
