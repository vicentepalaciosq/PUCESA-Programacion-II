{
 "cells": [
  {
   "cell_type": "markdown",
   "metadata": {},
   "source": [
    "# Ejercicio avanzado: Cola de Atención con Prioridad Simple"
   ]
  },
  {
   "cell_type": "markdown",
   "metadata": {},
   "source": [
    "En este ejercicio implementaremos una cola de atención donde los clientes tienen prioridades.\n",
    "\n",
    "- Los clientes con menor número de prioridad serán atendidos primero.\n",
    "- Si dos clientes tienen la misma prioridad, se atienden por orden de llegada.\n",
    "- Implementaremos esto usando listas y ordenación."
   ]
  },
  {
   "cell_type": "code",
   "execution_count": null,
   "metadata": {},
   "outputs": [],
   "source": [
    "# Clase ColaPrioridad completamente comentada\n",
    "\n",
    "# Definimos una clase simple de cola con prioridad (usamos lista para hacerlo didáctico)\n",
    "class ColaPrioridad:\n",
    "    \n",
    "    # Método constructor, se llama al crear el objeto\n",
    "    def __init__(self):\n",
    "        # Creamos una lista vacía donde almacenaremos las tuplas (prioridad, elemento)\n",
    "        self.items = []\n",
    "    \n",
    "    # Método para agregar elementos a la cola (enqueue)\n",
    "    def encolar(self, elemento, prioridad):\n",
    "        # Agregamos el nuevo elemento como una tupla (prioridad, elemento) al final de la lista\n",
    "        self.items.append((prioridad, elemento))\n",
    "        # Mostramos mensaje indicando qué elemento fue ingresado y su prioridad\n",
    "        print(f\"Ingresó: {elemento} con prioridad {prioridad}\")\n",
    "        \n",
    "    # Método para eliminar el elemento con mayor prioridad (dequeue)\n",
    "    def desencolar(self):\n",
    "        # Primero verificamos que la cola no esté vacía\n",
    "        if not self.esta_vacia():\n",
    "            # Ordenamos la lista completa por prioridad (ascendente)\n",
    "            # El menor número de prioridad es el más urgente\n",
    "            self.items.sort(key=lambda x: x[0])\n",
    "            # Extraemos el primer elemento (mayor prioridad)\n",
    "            atendido = self.items.pop(0)\n",
    "            # Mostramos qué elemento fue atendido y su prioridad\n",
    "            print(f\"Se atendió: {atendido[1]} (Prioridad {atendido[0]})\")\n",
    "            # Retornamos el elemento atendido por si se necesita usar\n",
    "            return atendido\n",
    "        else:\n",
    "            # Si la cola está vacía, informamos\n",
    "            print(\"No hay clientes para atender.\")\n",
    "            return None\n",
    "        \n",
    "    # Método que verifica si la cola está vacía\n",
    "    def esta_vacia(self):\n",
    "        # Retorna True si la lista no tiene elementos\n",
    "        return len(self.items) == 0\n",
    "\n",
    "    # Método que retorna el tamaño actual de la cola\n",
    "    def tamaño(self):\n",
    "        return len(self.items)\n"
   ]
  },
  {
   "cell_type": "markdown",
   "metadata": {},
   "source": [
    "### Simulación de atención de clientes con prioridad"
   ]
  },
  {
   "cell_type": "code",
   "execution_count": null,
   "metadata": {},
   "outputs": [],
   "source": [
    "# Creamos la cola con prioridad\n",
    "cola_atencion = ColaPrioridad()"
   ]
  },
  {
   "cell_type": "code",
   "execution_count": null,
   "metadata": {},
   "outputs": [],
   "source": [
    "# Encolamos algunos clientes\n",
    "cola_atencion.encolar(\"Paciente crítico\", 1)\n",
    "cola_atencion.encolar(\"Paciente leve\", 3)\n",
    "cola_atencion.encolar(\"Paciente urgente\", 2)\n",
    "cola_atencion.encolar(\"Paciente rutina\", 4)"
   ]
  },
  {
   "cell_type": "markdown",
   "metadata": {},
   "source": [
    "### Atención a los pacientes según su prioridad"
   ]
  },
  {
   "cell_type": "code",
   "execution_count": null,
   "metadata": {},
   "outputs": [],
   "source": [
    "while not cola_atencion.esta_vacia():\n",
    "    cola_atencion.desencolar()"
   ]
  },
  {
   "cell_type": "markdown",
   "metadata": {},
   "source": [
    "**Observación:** Aunque no es la forma más eficiente (porque reordena cada vez), es didáctica y permite entender cómo funciona el manejo de prioridades.\n",
    "\n",
    "En aplicaciones reales se puede usar el módulo `heapq` para optimizar el manejo de colas con prioridad."
   ]
  }
 ],
 "metadata": {
  "kernelspec": {
   "display_name": "Python 3",
   "language": "python",
   "name": "python3"
  },
  "language_info": {
   "name": "python",
   "version": "3.9"
  }
 },
 "nbformat": 4,
 "nbformat_minor": 5
}
