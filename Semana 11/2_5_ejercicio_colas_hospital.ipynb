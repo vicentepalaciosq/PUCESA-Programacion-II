{
 "cells": [
  {
   "cell_type": "markdown",
   "metadata": {},
   "source": [
    "# Ejercicio práctico: Simulador de atención hospitalaria con colas de prioridad"
   ]
  },
  {
   "cell_type": "markdown",
   "metadata": {},
   "source": [
    "### Contexto del problema:\n",
    "\n",
    "Un hospital desea simular el sistema de atención de pacientes por niveles de prioridad. Los pacientes llegan a la emergencia y son atendidos según la siguiente tabla de prioridades:\n",
    "\n",
    "| Prioridad | Descripción         |\n",
    "|-----------|---------------------|\n",
    "| 1         | Crítico (muy urgente) |\n",
    "| 2         | Urgente |\n",
    "| 3         | Moderado |\n",
    "| 4         | Leve |"
   ]
  },
  {
   "cell_type": "markdown",
   "metadata": {},
   "source": [
    "### Tarea:\n",
    "\n",
    "Implementar en Python una clase `ColaPrioridadHospital` que permita:\n",
    "\n",
    "- Agregar pacientes indicando su nombre y prioridad.\n",
    "- Atender pacientes respetando el orden de prioridad.\n",
    "- Mostrar cuántos pacientes están en espera.\n",
    "- Mostrar la lista de pacientes pendientes de atención (ordenados por prioridad)."
   ]
  },
  {
   "cell_type": "markdown",
   "metadata": {},
   "source": [
    "### Restricciones:\n",
    "- No usar librerías externas (no usar `heapq` ni `deque`).\n",
    "- Usar solamente clases, listas, condicionales y bucles.\n",
    "- Comentar correctamente cada parte del código.\n",
    "- Simular al menos 8 pacientes con prioridades diversas."
   ]
  },
  {
   "cell_type": "markdown",
   "metadata": {},
   "source": [
    "### Espacio para desarrollar tu solución:"
   ]
  },
  {
   "cell_type": "code",
   "execution_count": 1,
   "metadata": {},
   "outputs": [],
   "source": [
    "# Aquí debes crear tu clase ColaPrioridadHospital\n",
    "\n",
    "class ColaPrioridadHospital:\n",
    "    def __init__(self):\n",
    "        # Lista vacía donde almacenaremos (prioridad, nombre)\n",
    "        self.items = []\n",
    "    \n",
    "    def encolar(self, paciente, prioridad):\n",
    "        # Agregar paciente como tupla (prioridad, nombre)\n",
    "        pass  # Completar\n",
    "        \n",
    "    def desencolar(self):\n",
    "        # Atender paciente según prioridad\n",
    "        pass  # Completar\n",
    "        \n",
    "    def esta_vacia(self):\n",
    "        # Verificar si hay pacientes\n",
    "        pass  # Completar\n",
    "\n",
    "    def tamaño(self):\n",
    "        # Retornar cantidad de pacientes en espera\n",
    "        pass  # Completar\n",
    "    \n",
    "    def mostrar_pendientes(self):\n",
    "        # Mostrar lista ordenada de pacientes pendientes\n",
    "        pass  # Completar"
   ]
  },
  {
   "cell_type": "markdown",
   "metadata": {},
   "source": [
    "### Simulación (debes simular al menos 8 pacientes)"
   ]
  },
  {
   "cell_type": "code",
   "execution_count": 2,
   "metadata": {},
   "outputs": [],
   "source": [
    "# Aquí debes crear la simulación de tu sistema de atención\n",
    "# Recuerda encolar varios pacientes con distintas prioridades\n",
    "# Mostrar pendientes, atender pacientes y verificar el funcionamiento completo\n",
    "\n",
    "hospital = ColaPrioridadHospital()\n",
    "\n",
    "# Agregar aquí tus pacientes\n",
    "# hospital.encolar(\"Nombre\", prioridad)\n",
    "\n",
    "# Mostrar pacientes pendientes\n",
    "# hospital.mostrar_pendientes()\n",
    "\n",
    "# Atender todos los pacientes\n",
    "# while not hospital.esta_vacia():\n",
    "#     hospital.desencolar()"
   ]
  },
  {
   "cell_type": "markdown",
   "metadata": {},
   "source": [
    "### 📊 Rúbrica de calificación (Total 100 puntos):\n",
    "\n",
    "| Criterio | Puntaje máximo |\n",
    "|----------|----------------|\n",
    "| Implementación correcta de la clase `ColaPrioridadHospital` | 30 pts |\n",
    "| Función `encolar` correctamente implementada | 15 pts |\n",
    "| Función `desencolar` correctamente implementada | 15 pts |\n",
    "| Método `mostrar_pendientes` funcional y ordenado | 10 pts |\n",
    "| Uso adecuado de condicionales y bucles | 10 pts |\n",
    "| Comentarios y documentación en el código | 10 pts |\n",
    "| Simulación completa con al menos 8 pacientes | 5 pts |\n",
    "| Presentación y organización general del código | 5 pts |\n",
    "| **Total** | **100 pts** |"
   ]
  }
 ],
 "metadata": {
  "kernelspec": {
   "display_name": "base",
   "language": "python",
   "name": "python3"
  },
  "language_info": {
   "codemirror_mode": {
    "name": "ipython",
    "version": 3
   },
   "file_extension": ".py",
   "mimetype": "text/x-python",
   "name": "python",
   "nbconvert_exporter": "python",
   "pygments_lexer": "ipython3",
   "version": "3.11.5"
  }
 },
 "nbformat": 4,
 "nbformat_minor": 5
}
