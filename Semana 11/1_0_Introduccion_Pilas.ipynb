{
 "cells": [
  {
   "cell_type": "markdown",
   "id": "2d98a535",
   "metadata": {},
   "source": [
    "# Clase 1: Introducción a las Pilas (Stacks) en Python\n",
    "\n",
    "## Objetivos de la clase\n",
    "- Comprender qué es una pila y cómo funciona.\n",
    "- Conocer el concepto de LIFO (Last In, First Out).\n",
    "- Identificar operaciones básicas: `push`, `pop`, `peek`, `isEmpty`.\n",
    "- Implementar una pila en Python usando listas.\n",
    "- Resolver ejercicios básicos con pilas.\n"
   ]
  },
  {
   "cell_type": "markdown",
   "id": "c7602dac",
   "metadata": {},
   "source": [
    "## ¿Qué es una pila?\n",
    "\n",
    "Una **pila** es una estructura de datos **lineal** que sigue el principio **LIFO** (*Last In, First Out*), es decir, el **último elemento que entra es el primero que sale**.\n",
    "\n",
    "### Analogía del mundo real:\n",
    "Imagina una pila de platos:\n",
    "- El último plato que colocas encima es el primero que tomas cuando necesitas uno.\n"
   ]
  },
  {
   "cell_type": "code",
   "execution_count": 1,
   "id": "acd00b82",
   "metadata": {},
   "outputs": [
    {
     "name": "stdout",
     "output_type": "stream",
     "text": [
      "Pila actual: ['Plato 1', 'Plato 2', 'Plato 3']\n"
     ]
    }
   ],
   "source": [
    "# Crear una pila vacía usando una lista\n",
    "pila = []\n",
    "\n",
    "# Agregar elementos con push (append)\n",
    "pila.append(\"Plato 1\")\n",
    "pila.append(\"Plato 2\")\n",
    "pila.append(\"Plato 3\")\n",
    "\n",
    "# Ver la pila actual\n",
    "print(\"Pila actual:\", pila)"
   ]
  },
  {
   "cell_type": "markdown",
   "id": "5a9c2ea1",
   "metadata": {},
   "source": [
    "## Método `pop()`: eliminar el último elemento (el del tope)"
   ]
  },
  {
   "cell_type": "code",
   "execution_count": 2,
   "id": "4fd37a1f",
   "metadata": {},
   "outputs": [
    {
     "name": "stdout",
     "output_type": "stream",
     "text": [
      "Elemento retirado: Plato 3\n",
      "Pila después de pop: ['Plato 1', 'Plato 2']\n"
     ]
    }
   ],
   "source": [
    "# Quitar el último elemento agregado (pop)\n",
    "elemento = pila.pop()\n",
    "print(\"Elemento retirado:\", elemento)\n",
    "print(\"Pila después de pop:\", pila)"
   ]
  },
  {
   "cell_type": "markdown",
   "id": "57b074f2",
   "metadata": {},
   "source": [
    "## Método `peek`: ver el elemento del tope sin eliminarlo\n",
    "\n",
    "En Python no existe `peek()` directamente, pero podemos usar el índice `-1` para ver el tope de la pila.\n"
   ]
  },
  {
   "cell_type": "code",
   "execution_count": 3,
   "id": "f34c289c",
   "metadata": {},
   "outputs": [
    {
     "name": "stdout",
     "output_type": "stream",
     "text": [
      "Elemento en el tope: Plato 2\n"
     ]
    }
   ],
   "source": [
    "# Ver el tope de la pila sin eliminar\n",
    "if pila:\n",
    "    print(\"Elemento en el tope:\", pila[-1])\n",
    "else:\n",
    "    print(\"La pila está vacía.\")"
   ]
  },
  {
   "cell_type": "markdown",
   "id": "f8a63886",
   "metadata": {},
   "source": [
    "## Método `isEmpty`: verificar si la pila está vacía\n",
    "\n",
    "Esto se puede hacer verificando si su longitud es 0.\n"
   ]
  },
  {
   "cell_type": "code",
   "execution_count": 4,
   "id": "17b54dcc",
   "metadata": {},
   "outputs": [
    {
     "name": "stdout",
     "output_type": "stream",
     "text": [
      "¿La pila está vacía? False\n"
     ]
    }
   ],
   "source": [
    "# Comprobar si la pila está vacía\n",
    "print(\"¿La pila está vacía?\", len(pila) == 0)"
   ]
  },
  {
   "cell_type": "markdown",
   "id": "b81a977c",
   "metadata": {},
   "source": [
    "## Resumen de Operaciones Básicas en Pilas\n",
    "\n",
    "| Operación | Descripción                          | Método en Python         |\n",
    "|-----------|--------------------------------------|---------------------------|\n",
    "| push      | Insertar un elemento                 | `append(valor)`           |\n",
    "| pop       | Quitar el elemento del tope          | `pop()`                   |\n",
    "| peek      | Ver el elemento del tope             | `pila[-1]`                |\n",
    "| isEmpty   | Verificar si la pila está vacía      | `len(pila) == 0`          |\n"
   ]
  },
  {
   "cell_type": "markdown",
   "id": "d0b836f2",
   "metadata": {},
   "source": [
    "## Resumen Completo de Operaciones Básicas en Pilas (Stacks)\n",
    "\n",
    "Las pilas son estructuras de datos lineales que funcionan bajo el principio **LIFO** (*Last In, First Out*), donde el último elemento en ingresar es el primero en salir.\n",
    "\n",
    "A continuación se detallan las operaciones más importantes que puedes realizar sobre una pila en Python, junto con su descripción y forma de implementación:\n",
    "\n",
    "| **Operación** | **Descripción**                                                                 | **Método en Python**     |\n",
    "|---------------|----------------------------------------------------------------------------------|---------------------------|\n",
    "| `push`        | Inserta un nuevo elemento en la cima (tope) de la pila.                         | `pila.append(valor)`      |\n",
    "| `pop`         | Elimina el elemento del tope de la pila y lo devuelve.                          | `pila.pop()`              |\n",
    "| `peek`        | Permite ver el elemento del tope sin eliminarlo de la pila.                     | `pila[-1]`                |\n",
    "| `isEmpty`     | Verifica si la pila está vacía (sin elementos).                                 | `len(pila) == 0`          |\n",
    "\n",
    "### Ejemplo de uso combinado:\n",
    "\n",
    "```python\n",
    "pila = []\n",
    "\n",
    "# Push\n",
    "pila.append(\"A\")\n",
    "pila.append(\"B\")\n",
    "\n",
    "# Peek\n",
    "print(\"Tope:\", pila[-1])  # B\n",
    "\n",
    "# Pop\n",
    "print(\"Elemento retirado:\", pila.pop())  # B\n",
    "\n",
    "# isEmpty\n",
    "print(\"¿Pila vacía?\", len(pila) == 0)  # False (porque queda 'A')\n"
   ]
  }
 ],
 "metadata": {
  "kernelspec": {
   "display_name": "base",
   "language": "python",
   "name": "python3"
  },
  "language_info": {
   "codemirror_mode": {
    "name": "ipython",
    "version": 3
   },
   "file_extension": ".py",
   "mimetype": "text/x-python",
   "name": "python",
   "nbconvert_exporter": "python",
   "pygments_lexer": "ipython3",
   "version": "3.11.5"
  }
 },
 "nbformat": 4,
 "nbformat_minor": 5
}
