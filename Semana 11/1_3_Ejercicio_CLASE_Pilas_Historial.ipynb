{
 "cells": [
  {
   "cell_type": "markdown",
   "id": "5778aed3",
   "metadata": {},
   "source": [
    "# Ejercicio para Resolver: Historial de Navegación con Pilas\n",
    "\n",
    "En este ejercicio implementarás un sistema básico de historial de navegación usando una pila.\n",
    "\n",
    "### Reglas:\n",
    "- Cada vez que visitas una nueva página, debes usar `append()` para agregarla a la pila.\n",
    "- Si usas \"atrás\", debes eliminar la última página con `pop()`.\n",
    "- Puedes consultar la página actual usando `pila[-1]`.\n",
    "- Puedes verificar si ya no hay páginas usando `len(pila) == 0`.\n",
    "\n",
    "### Objetivo:\n",
    "Simular el comportamiento de un navegador web utilizando una pila para registrar el historial.\n",
    "\n",
    "Completa el código paso a paso según las instrucciones.\n"
   ]
  },
  {
   "cell_type": "markdown",
   "id": "98783f22",
   "metadata": {},
   "source": [
    "## Paso 1: Crear el historial (pila vacía)"
   ]
  },
  {
   "cell_type": "code",
   "execution_count": null,
   "id": "43094424",
   "metadata": {},
   "outputs": [],
   "source": [
    "# Crea una lista vacía llamada historial\n",
    "historial = []\n",
    "\n",
    "# Mostrar el historial vacío\n",
    "print(\"Historial:\", historial)"
   ]
  },
  {
   "cell_type": "markdown",
   "id": "465ba536",
   "metadata": {},
   "source": [
    "## Paso 2: Visitar nuevas páginas (usar push)\n",
    "\n",
    "Agrega las siguientes páginas al historial usando `append()`:\n",
    "1. www.google.com\n",
    "2. www.python.org\n",
    "3. www.stackoverflow.com\n"
   ]
  },
  {
   "cell_type": "code",
   "execution_count": null,
   "id": "07f2826f",
   "metadata": {},
   "outputs": [],
   "source": [
    "# Agrega las páginas visitadas aquí\n",
    "# historial.append(...)\n",
    "\n",
    "# Muestra el historial actual\n",
    "print(\"Historial:\", historial)"
   ]
  },
  {
   "cell_type": "markdown",
   "id": "97f736f6",
   "metadata": {},
   "source": [
    "## Paso 3: Mostrar la página actual (peek)\n",
    "\n",
    "Imprime la última página visitada sin quitarla de la pila.\n"
   ]
  },
  {
   "cell_type": "code",
   "execution_count": null,
   "id": "04bffcbc",
   "metadata": {},
   "outputs": [],
   "source": [
    "# Verifica si hay páginas y muestra la más reciente\n",
    "# if ...:\n",
    "#     print(\"Página actual:\", ...)\n",
    "# else:\n",
    "#     print(\"No hay páginas en el historial\")"
   ]
  },
  {
   "cell_type": "markdown",
   "id": "b7e767f2",
   "metadata": {},
   "source": [
    "## Paso 4: Simular que el usuario hace clic en \"Atrás\"\n",
    "\n",
    "Quita la página más reciente del historial usando `pop()` y muestra la nueva página actual.\n"
   ]
  },
  {
   "cell_type": "code",
   "execution_count": null,
   "id": "0e02b2ff",
   "metadata": {},
   "outputs": [],
   "source": [
    "# Elimina la última página visitada y muestra el historial restante\n",
    "# if ...:\n",
    "#     eliminada = ...\n",
    "#     print(\"Volviste desde:\", eliminada)\n",
    "#     print(\"Página actual:\", ...)\n",
    "# else:\n",
    "#     print(\"No puedes volver, historial vacío.\")"
   ]
  },
  {
   "cell_type": "markdown",
   "id": "daa82fa7",
   "metadata": {},
   "source": [
    "## Paso 5: Verificar si el historial está vacío\n",
    "\n",
    "Usa `len(historial) == 0` para comprobar si ya no hay páginas en la pila.\n"
   ]
  },
  {
   "cell_type": "code",
   "execution_count": null,
   "id": "bdcac1d4",
   "metadata": {},
   "outputs": [],
   "source": [
    "# Verifica si el historial está vacío\n",
    "# if ...:\n",
    "#     print(\"El historial está vacío.\")\n",
    "# else:\n",
    "#     print(\"Páginas restantes:\", historial)"
   ]
  },
  {
   "cell_type": "markdown",
   "id": "3d4c1082",
   "metadata": {},
   "source": [
    "## Rúbrica de Calificación: Ejercicio de Pilas - Historial de Navegación (Total: 100 puntos)\n",
    "\n",
    "| Criterio Evaluado                                              | Puntaje Máximo |\n",
    "|----------------------------------------------------------------|----------------|\n",
    "| Paso 1: Creación correcta de la pila vacía                     | 10 puntos      |\n",
    "| Paso 2: Inserción de las páginas indicadas con `append()`      | 20 puntos      |\n",
    "| Paso 3: Visualización del tope de la pila con `peek` (`[-1]`)  | 20 puntos      |\n",
    "| Paso 4: Uso correcto de `pop()` y actualización del historial  | 20 puntos      |\n",
    "| Paso 5: Verificación de pila vacía con `len(historial) == 0`   | 10 puntos      |\n",
    "| Claridad del código, comentarios y sintaxis correcta           | 10 puntos      |\n",
    "| Ejecución sin errores y cumplimiento del objetivo del ejercicio| 10 puntos      |\n",
    "\n",
    "**Total: 100 puntos**\n"
   ]
  }
 ],
 "metadata": {
  "language_info": {
   "name": "python"
  }
 },
 "nbformat": 4,
 "nbformat_minor": 5
}
