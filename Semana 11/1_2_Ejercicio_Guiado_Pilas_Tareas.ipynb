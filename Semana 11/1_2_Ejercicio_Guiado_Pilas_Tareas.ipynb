{
 "cells": [
  {
   "cell_type": "markdown",
   "id": "76266044",
   "metadata": {},
   "source": [
    "# Ejercicio Guiado: Gestión de Tareas Pendientes con una Pila\n",
    "\n",
    "En este ejercicio se simulará un sistema muy simple de tareas pendientes usando una pila. Aplicaremos todos los métodos vistos:\n",
    "\n",
    "- Agregar tareas (`push` usando `append`)\n",
    "- Ver la tarea más reciente (`peek` usando índice -1)\n",
    "- Marcar como completada la última tarea (`pop`)\n",
    "- Verificar si hay tareas pendientes (`isEmpty` usando `len == 0`)\n",
    "\n",
    "Este tipo de estructura es útil en sistemas que requieren registrar acciones reversibles, como editores de texto o historial de navegación.\n"
   ]
  },
  {
   "cell_type": "markdown",
   "id": "97ea6c11",
   "metadata": {},
   "source": [
    "## Paso 1: Crear la pila de tareas"
   ]
  },
  {
   "cell_type": "code",
   "execution_count": 1,
   "id": "49571a41",
   "metadata": {},
   "outputs": [],
   "source": [
    "# Creamos una pila vacía para almacenar tareas pendientes\n",
    "tareas = []"
   ]
  },
  {
   "cell_type": "markdown",
   "id": "dfbe322a",
   "metadata": {},
   "source": [
    "## Paso 2: Agregar tareas (push)"
   ]
  },
  {
   "cell_type": "code",
   "execution_count": 3,
   "id": "ac95dc1f",
   "metadata": {},
   "outputs": [
    {
     "ename": "NameError",
     "evalue": "name 'tareas' is not defined",
     "output_type": "error",
     "traceback": [
      "\u001b[1;31m---------------------------------------------------------------------------\u001b[0m",
      "\u001b[1;31mNameError\u001b[0m                                 Traceback (most recent call last)",
      "Cell \u001b[1;32mIn[3], line 2\u001b[0m\n\u001b[0;32m      1\u001b[0m \u001b[38;5;66;03m# Agregamos tres tareas a la pila\u001b[39;00m\n\u001b[1;32m----> 2\u001b[0m \u001b[43mtareas\u001b[49m\u001b[38;5;241m.\u001b[39mappend(\u001b[38;5;124m\"\u001b[39m\u001b[38;5;124mEstudiar pilas en Python\u001b[39m\u001b[38;5;124m\"\u001b[39m)\n\u001b[0;32m      3\u001b[0m tareas\u001b[38;5;241m.\u001b[39mappend(\u001b[38;5;124m\"\u001b[39m\u001b[38;5;124mHacer ejercicios de estructuras de datos\u001b[39m\u001b[38;5;124m\"\u001b[39m)\n\u001b[0;32m      4\u001b[0m tareas\u001b[38;5;241m.\u001b[39mappend(\u001b[38;5;124m\"\u001b[39m\u001b[38;5;124mLeer documentación oficial de Python\u001b[39m\u001b[38;5;124m\"\u001b[39m)\n",
      "\u001b[1;31mNameError\u001b[0m: name 'tareas' is not defined"
     ]
    }
   ],
   "source": [
    "# Agregamos tres tareas a la pila\n",
    "tareas.append(\"Estudiar pilas en Python\")\n",
    "tareas.append(\"Hacer ejercicios de estructuras de datos\")\n",
    "tareas.append(\"Leer documentación oficial de Python\")\n",
    "\n",
    "# Mostramos el estado actual de la pila\n",
    "print(\"Tareas pendientes:\", tareas)"
   ]
  },
  {
   "cell_type": "markdown",
   "id": "85842135",
   "metadata": {},
   "source": [
    "## Paso 3: Ver la tarea más reciente sin eliminarla (peek)"
   ]
  },
  {
   "cell_type": "code",
   "execution_count": 3,
   "id": "eefaf348",
   "metadata": {},
   "outputs": [
    {
     "name": "stdout",
     "output_type": "stream",
     "text": [
      "Tarea más reciente: Leer documentación oficial de Python\n"
     ]
    }
   ],
   "source": [
    "# Mostramos la tarea más reciente (el tope de la pila)\n",
    "if tareas:\n",
    "    print(\"Tarea más reciente:\", tareas[-1])\n",
    "else:\n",
    "    print(\"No hay tareas pendientes.\")"
   ]
  },
  {
   "cell_type": "markdown",
   "id": "7603af54",
   "metadata": {},
   "source": [
    "## Paso 4: Marcar tarea como completada (pop)"
   ]
  },
  {
   "cell_type": "code",
   "execution_count": 4,
   "id": "1f68379f",
   "metadata": {},
   "outputs": [
    {
     "name": "stdout",
     "output_type": "stream",
     "text": [
      "Tarea completada: Leer documentación oficial de Python\n"
     ]
    }
   ],
   "source": [
    "# Quitamos la última tarea (la más reciente)\n",
    "if tareas:\n",
    "    completada = tareas.pop()\n",
    "    print(\"Tarea completada:\", completada)\n",
    "else:\n",
    "    print(\"No hay tareas para completar.\")"
   ]
  },
  {
   "cell_type": "markdown",
   "id": "e1d58d6b",
   "metadata": {},
   "source": [
    "## Paso 5: Verificar si quedan tareas pendientes (isEmpty)"
   ]
  },
  {
   "cell_type": "code",
   "execution_count": 2,
   "id": "5e3fb49c",
   "metadata": {},
   "outputs": [
    {
     "ename": "NameError",
     "evalue": "name 'tareas' is not defined",
     "output_type": "error",
     "traceback": [
      "\u001b[1;31m---------------------------------------------------------------------------\u001b[0m",
      "\u001b[1;31mNameError\u001b[0m                                 Traceback (most recent call last)",
      "Cell \u001b[1;32mIn[2], line 2\u001b[0m\n\u001b[0;32m      1\u001b[0m \u001b[38;5;66;03m# Verificamos si aún hay tareas pendientes\u001b[39;00m\n\u001b[1;32m----> 2\u001b[0m \u001b[38;5;28;01mif\u001b[39;00m \u001b[38;5;28mlen\u001b[39m(\u001b[43mtareas\u001b[49m) \u001b[38;5;241m==\u001b[39m \u001b[38;5;241m0\u001b[39m:\n\u001b[0;32m      3\u001b[0m     \u001b[38;5;28mprint\u001b[39m(\u001b[38;5;124m\"\u001b[39m\u001b[38;5;124mTodas las tareas han sido completadas.\u001b[39m\u001b[38;5;124m\"\u001b[39m)\n\u001b[0;32m      4\u001b[0m \u001b[38;5;28;01melse\u001b[39;00m:\n",
      "\u001b[1;31mNameError\u001b[0m: name 'tareas' is not defined"
     ]
    }
   ],
   "source": [
    "# Verificamos si aún hay tareas pendientes\n",
    "if len(tareas) == 0:\n",
    "    print(\"Todas las tareas han sido completadas.\")\n",
    "else:\n",
    "    print(\"Tareas restantes:\", tareas)"
   ]
  }
 ],
 "metadata": {
  "kernelspec": {
   "display_name": "Python 3",
   "language": "python",
   "name": "python3"
  },
  "language_info": {
   "codemirror_mode": {
    "name": "ipython",
    "version": 3
   },
   "file_extension": ".py",
   "mimetype": "text/x-python",
   "name": "python",
   "nbconvert_exporter": "python",
   "pygments_lexer": "ipython3",
   "version": "3.12.6"
  }
 },
 "nbformat": 4,
 "nbformat_minor": 5
}
