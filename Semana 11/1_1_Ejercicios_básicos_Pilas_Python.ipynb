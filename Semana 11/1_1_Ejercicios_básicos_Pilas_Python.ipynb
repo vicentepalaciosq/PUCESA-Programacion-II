{
 "cells": [
  {
   "cell_type": "markdown",
   "id": "f7e8bb40",
   "metadata": {},
   "source": [
    "# Ejercicios de Implementación de Pilas en Python\n",
    "\n",
    "En este notebook aprenderás a usar los métodos fundamentales de las pilas:\n",
    "- `push` → insertar elemento.\n",
    "- `pop` → eliminar y obtener el tope.\n",
    "- `peek` → ver el elemento del tope sin quitarlo.\n",
    "- `isEmpty` → verificar si la pila está vacía.\n",
    "\n",
    "Cada ejercicio incluye el código comentado para una mejor comprensión.\n"
   ]
  },
  {
   "cell_type": "markdown",
   "id": "ff39f277",
   "metadata": {},
   "source": [
    "## Ejercicio 1: Crear una pila e insertar elementos\n",
    "\n",
    "Vamos a crear una pila vacía y luego agregar algunos elementos usando `append()` (equivalente a `push`).\n"
   ]
  },
  {
   "cell_type": "code",
   "execution_count": 1,
   "id": "27fc1d34",
   "metadata": {},
   "outputs": [
    {
     "name": "stdout",
     "output_type": "stream",
     "text": [
      "Contenido de la pila: ['uno', 'dos', 'tres']\n"
     ]
    }
   ],
   "source": [
    "# Creamos una pila vacía\n",
    "pila = []\n",
    "\n",
    "# Insertamos elementos\n",
    "pila.append(\"uno\")   # push\n",
    "pila.append(\"dos\")\n",
    "pila.append(\"tres\")\n",
    "\n",
    "# Mostramos la pila\n",
    "print(\"Contenido de la pila:\", pila)"
   ]
  },
  {
   "cell_type": "markdown",
   "id": "51232086",
   "metadata": {},
   "source": [
    "## Ejercicio 2: Eliminar elementos con `pop()`\n",
    "\n",
    "La operación `pop` elimina el último elemento insertado (es decir, el tope de la pila).\n"
   ]
  },
  {
   "cell_type": "code",
   "execution_count": 2,
   "id": "699a532f",
   "metadata": {},
   "outputs": [
    {
     "name": "stdout",
     "output_type": "stream",
     "text": [
      "Elemento eliminado: tres\n",
      "Pila actual: ['uno', 'dos']\n"
     ]
    }
   ],
   "source": [
    "# Eliminamos el último elemento (tres)\n",
    "ultimo = pila.pop()\n",
    "print(\"Elemento eliminado:\", ultimo)\n",
    "print(\"Pila actual:\", pila)"
   ]
  },
  {
   "cell_type": "markdown",
   "id": "fa67a8e2",
   "metadata": {},
   "source": [
    "## Ejercicio 3: Ver el tope con `peek`\n",
    "\n",
    "Para ver el último elemento sin eliminarlo, usamos el índice `-1`.\n"
   ]
  },
  {
   "cell_type": "code",
   "execution_count": 3,
   "id": "6d566f74",
   "metadata": {},
   "outputs": [
    {
     "name": "stdout",
     "output_type": "stream",
     "text": [
      "Elemento en el tope: dos\n"
     ]
    }
   ],
   "source": [
    "# Verificamos si hay elementos\n",
    "if pila:\n",
    "    print(\"Elemento en el tope:\", pila[-1])  # peek\n",
    "else:\n",
    "    print(\"La pila está vacía\")"
   ]
  },
  {
   "cell_type": "markdown",
   "id": "61e808a1",
   "metadata": {},
   "source": [
    "## Ejercicio 4: Verificar si la pila está vacía\n",
    "\n",
    "Para saber si la pila tiene elementos, usamos `len(pila) == 0`.\n"
   ]
  },
  {
   "cell_type": "code",
   "execution_count": 4,
   "id": "16d78d2d",
   "metadata": {},
   "outputs": [
    {
     "name": "stdout",
     "output_type": "stream",
     "text": [
      "La pila NO está vacía\n"
     ]
    }
   ],
   "source": [
    "# Comprobamos si está vacía\n",
    "if len(pila) == 0:\n",
    "    print(\"La pila está vacía\")\n",
    "else:\n",
    "    print(\"La pila NO está vacía\")"
   ]
  },
  {
   "cell_type": "markdown",
   "id": "1bd89594",
   "metadata": {},
   "source": [
    "## Diferencias entre los métodos\n",
    "\n",
    "- `append(valor)` agrega al final de la lista, que es el tope de la pila.\n",
    "- `pop()` remueve ese último elemento y lo devuelve.\n",
    "- `pila[-1]` accede al último elemento sin modificar la pila.\n",
    "- `len(pila) == 0` evalúa si hay elementos o no.\n",
    "\n",
    "### Ejemplo final comparativo:\n"
   ]
  },
  {
   "cell_type": "code",
   "execution_count": 5,
   "id": "58b6cf91",
   "metadata": {},
   "outputs": [
    {
     "name": "stdout",
     "output_type": "stream",
     "text": [
      "Tope: B\n",
      "Elemento retirado: B\n",
      "¿Está vacía? False\n"
     ]
    }
   ],
   "source": [
    "# Creamos una nueva pila\n",
    "mi_pila = []\n",
    "\n",
    "# Push\n",
    "mi_pila.append(\"A\")\n",
    "mi_pila.append(\"B\")\n",
    "\n",
    "# Peek\n",
    "print(\"Tope:\", mi_pila[-1])  # B\n",
    "\n",
    "# Pop\n",
    "print(\"Elemento retirado:\", mi_pila.pop())  # B\n",
    "\n",
    "# isEmpty\n",
    "print(\"¿Está vacía?\", len(mi_pila) == 0)  # False (queda 'A')"
   ]
  }
 ],
 "metadata": {
  "kernelspec": {
   "display_name": "base",
   "language": "python",
   "name": "python3"
  },
  "language_info": {
   "codemirror_mode": {
    "name": "ipython",
    "version": 3
   },
   "file_extension": ".py",
   "mimetype": "text/x-python",
   "name": "python",
   "nbconvert_exporter": "python",
   "pygments_lexer": "ipython3",
   "version": "3.11.5"
  }
 },
 "nbformat": 4,
 "nbformat_minor": 5
}
