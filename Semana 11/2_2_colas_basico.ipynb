{
 "cells": [
  {
   "cell_type": "code",
   "execution_count": 1,
   "id": "192aa4d4",
   "metadata": {},
   "outputs": [
    {
     "name": "stdout",
     "output_type": "stream",
     "text": [
      "deque(['A', 'B', 'C'])\n",
      "Elemento atendido: A\n",
      "Cola actual: deque(['B', 'C'])\n"
     ]
    }
   ],
   "source": [
    "from collections import deque\n",
    "\n",
    "# Creamos una cola vacía\n",
    "cola = deque()\n",
    "\n",
    "# Agregar elementos\n",
    "cola.append(\"A\")\n",
    "cola.append(\"B\")\n",
    "cola.append(\"C\")\n",
    "\n",
    "print(cola)  # deque(['A', 'B', 'C'])\n",
    "\n",
    "# Eliminar el primer elemento\n",
    "primero = cola.popleft()\n",
    "print(\"Elemento atendido:\", primero)\n",
    "print(\"Cola actual:\", cola)\n"
   ]
  },
  {
   "cell_type": "markdown",
   "id": "b41df7c8",
   "metadata": {},
   "source": [
    "| Operación                                    | deque    | list |\n",
    "| -------------------------------------------- | -------- | ---- |\n",
    "| Agregar al final (`append`)                  | O(1)     | O(1) |\n",
    "| Eliminar al final (`pop`)                    | O(1)     | O(1) |\n",
    "| Eliminar al principio (`popleft` / `pop(0)`) | **O(1)** | O(n) |\n"
   ]
  }
 ],
 "metadata": {
  "kernelspec": {
   "display_name": "base",
   "language": "python",
   "name": "python3"
  },
  "language_info": {
   "codemirror_mode": {
    "name": "ipython",
    "version": 3
   },
   "file_extension": ".py",
   "mimetype": "text/x-python",
   "name": "python",
   "nbconvert_exporter": "python",
   "pygments_lexer": "ipython3",
   "version": "3.11.5"
  }
 },
 "nbformat": 4,
 "nbformat_minor": 5
}
