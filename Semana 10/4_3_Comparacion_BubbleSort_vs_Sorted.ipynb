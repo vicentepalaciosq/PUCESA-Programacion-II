{
 "cells": [
  {
   "cell_type": "markdown",
   "id": "ebd15145",
   "metadata": {},
   "source": [
    "# 🔄 Comparación Visual: `Bubble Sort` vs `sorted()`\n",
    "\n",
    "En este cuaderno compararemos gráficamente el comportamiento de:\n",
    "\n",
    "- 🔵 `Bubble Sort`: un algoritmo de ordenamiento clásico, paso a paso.\n",
    "- 🟢 `sorted()`: la función integrada de Python, que usa algoritmos eficientes internamente.\n",
    "\n",
    "Ambos ordenan listas, pero lo hacen de formas muy distintas. Aquí podrás visualizar esa diferencia.\n"
   ]
  },
  {
   "cell_type": "markdown",
   "id": "396670b8",
   "metadata": {},
   "source": [
    "## 🧰 Importación de librerías necesarias"
   ]
  },
  {
   "cell_type": "code",
   "execution_count": 2,
   "id": "008030f7",
   "metadata": {},
   "outputs": [],
   "source": [
    "import matplotlib.pyplot as plt\n",
    "import random\n",
    "from IPython.display import clear_output\n",
    "import time"
   ]
  },
  {
   "cell_type": "markdown",
   "id": "ec662515",
   "metadata": {},
   "source": [
    "## 🧠 Función de animación comparativa"
   ]
  },
  {
   "cell_type": "code",
   "execution_count": null,
   "id": "7a6ce457",
   "metadata": {},
   "outputs": [],
   "source": [
    "# 🧠 Esta función visualiza una comparación entre el proceso paso a paso de Bubble Sort\n",
    "# y el resultado inmediato del uso de la función integrada sorted()\n",
    "\n",
    "def animar_comparacion_sorted_bubble(lista_original):\n",
    "    # Hacemos una copia de la lista original para usarla en Bubble Sort\n",
    "    lista_bubble = lista_original.copy()\n",
    "\n",
    "    # Obtenemos el resultado de la función sorted() directamente (ya ordenado)\n",
    "    lista_sorted = sorted(lista_original)\n",
    "\n",
    "    # Lista para guardar los pasos intermedios del algoritmo Bubble Sort\n",
    "    pasos_bubble = [lista_bubble.copy()]  # Agregamos el estado inicial\n",
    "\n",
    "    # 🔄 Simulación del algoritmo Bubble Sort con registro de pasos\n",
    "    n = len(lista_bubble)\n",
    "    for i in range(n):\n",
    "        for j in range(0, n - i - 1):\n",
    "            # Si los elementos están desordenados, los intercambiamos\n",
    "            if lista_bubble[j] > lista_bubble[j + 1]:\n",
    "                # Intercambio\n",
    "                lista_bubble[j], lista_bubble[j + 1] = lista_bubble[j + 1], lista_bubble[j]\n",
    "                # Guardamos una copia del estado actual para animarlo luego\n",
    "                pasos_bubble.append(lista_bubble.copy())\n",
    "\n",
    "    # Cantidad total de pasos capturados en Bubble Sort\n",
    "    total_pasos = len(pasos_bubble)\n",
    "\n",
    "    # 🎥 Animación comparativa: paso a paso para Bubble Sort vs resultado final de sorted()\n",
    "    for k in range(total_pasos):\n",
    "        # Limpiamos la salida anterior para simular movimiento en tiempo real\n",
    "        clear_output(wait=True)\n",
    "\n",
    "        # Creamos una figura con 2 subgráficas una al lado de la otra\n",
    "        fig, axs = plt.subplots(1, 2, figsize=(12, 4))\n",
    "\n",
    "        # 🔵 Subgráfico 1: Visualización animada del proceso de Bubble Sort\n",
    "        axs[0].bar(range(len(pasos_bubble[k])), pasos_bubble[k], color='skyblue')\n",
    "        axs[0].set_title(f\"Bubble Sort - Paso {k+1}\")\n",
    "        axs[0].set_ylim(0, max(lista_original) + 5)  # Altura del gráfico\n",
    "\n",
    "        # 🟢 Subgráfico 2: Resultado final de sorted() (no cambia, es estático)\n",
    "        axs[1].bar(range(len(lista_sorted)), lista_sorted, color='lightgreen')\n",
    "        axs[1].set_title(\"sorted() - Resultado final\")\n",
    "        axs[1].set_ylim(0, max(lista_original) + 5)\n",
    "\n",
    "        # Acomoda los subgráficos para que no se superpongan\n",
    "        plt.tight_layout()\n",
    "\n",
    "        # Pausa breve entre cada paso para que se note la animación\n",
    "        plt.pause(0.3)\n",
    "\n",
    "    # Muestra la última imagen sin limpiar\n",
    "    plt.show()\n"
   ]
  },
  {
   "cell_type": "markdown",
   "id": "c826964c",
   "metadata": {},
   "source": [
    "## 🚀 Ejecutamos la comparación con una lista aleatoria pequeña"
   ]
  },
  {
   "cell_type": "code",
   "execution_count": null,
   "id": "b9008ab6",
   "metadata": {},
   "outputs": [
    {
     "data": {
      "image/png": "[encoded data removed]",
      "text/plain": [
       "<Figure size 1200x400 with 2 Axes>"
      ]
     },
     "metadata": {},
     "output_type": "display_data"
    }
   ],
   "source": [
    "# 🎲 Generamos una lista de prueba con 10 números aleatorios únicos entre 1 y 30\n",
    "# Usamos random.sample() para que no se repitan y sea más fácil visualizar el orden\n",
    "lista_demo = random.sample(range(1, 30), 10)\n",
    "\n",
    "# 🧪 Ejecutamos la función que anima el proceso de ordenamiento\n",
    "# Se comparará paso a paso cómo Bubble Sort ordena la lista\n",
    "# frente al resultado final instantáneo que da la función sorted()\n",
    "animar_comparacion_sorted_bubble(lista_demo)\n"
   ]
  },
  {
   "cell_type": "markdown",
   "id": "0cce9153",
   "metadata": {},
   "source": [
    "## ✅ Conclusión: Diferencias clave\n",
    "\n",
    "| Característica       | `Bubble Sort`                           | `sorted()` (integrada)               |\n",
    "|----------------------|------------------------------------------|--------------------------------------|\n",
    "| 🧠 Tipo de algoritmo  | Manual, paso a paso, educativo           | Internamente optimizado (Timsort)   |\n",
    "| ⏱️ Velocidad          | Muy lenta en listas grandes              | Muy rápida y escalable              |\n",
    "| 🔄 Visibilidad        | Se puede ver cómo se hacen los intercambios | Muestra solo el resultado final     |\n",
    "| 🎯 Uso real           | No recomendado en producción             | Ideal para cualquier aplicación     |\n",
    "| 📚 Propósito didáctico| Excelente para enseñar algoritmos básicos| Útil para programación eficiente     |\n",
    "\n",
    "> 💡 Aunque ambos algoritmos logran el mismo resultado, `sorted()` es muchísimo más eficiente y confiable en aplicaciones reales.  \n",
    "> Sin embargo, **Bubble Sort sigue siendo valioso para aprender cómo funcionan los algoritmos de ordenamiento paso a paso**.\n"
   ]
  }
 ],
 "metadata": {
  "kernelspec": {
   "display_name": "base",
   "language": "python",
   "name": "python3"
  },
  "language_info": {
   "codemirror_mode": {
    "name": "ipython",
    "version": 3
   },
   "file_extension": ".py",
   "mimetype": "text/x-python",
   "name": "python",
   "nbconvert_exporter": "python",
   "pygments_lexer": "ipython3",
   "version": "3.11.5"
  }
 },
 "nbformat": 4,
 "nbformat_minor": 5
}
