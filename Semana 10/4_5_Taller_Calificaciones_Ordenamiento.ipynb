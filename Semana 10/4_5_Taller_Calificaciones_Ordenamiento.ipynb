{
 "cells": [
  {
   "cell_type": "markdown",
   "id": "f72c2afe",
   "metadata": {},
   "source": [
    "# 🧪 Taller Práctico: Visualización y Gestión de Calificaciones\n",
    "\n",
    "### 🎯 Objetivo:\n",
    "Aplicar los conceptos de ordenamiento (`Bubble Sort`, `sorted`) y manipulación de listas ordenadas (`bisect`) para gestionar y analizar calificaciones de estudiantes.\n",
    "\n",
    "---\n",
    "\n",
    "## 🧰 ¿De qué notebooks guiarse?\n",
    "\n",
    "- **Ordenamiento con Bubble Sort y comparaciones**: ver `4_2_Visualizacion_BubbleSort.ipynb`\n",
    "- **Uso de sorted() y bisect**: ver `4_1_Clase_Complementaria_Bisect_Sorted.ipynb`\n",
    "- **Animación comparativa ordenamientos**: ver `4_4_Comparacion_BubbleSort_vs_Sorted_Animada.ipynb`\n",
    "\n",
    "---\n",
    "\n",
    "## 📋 Instrucciones del ejercicio:\n",
    "\n",
    "1. Genera una lista aleatoria de 15 calificaciones finales (entre 0 y 20).\n",
    "2. Muestra las notas originales.\n",
    "3. Ordena las calificaciones con Bubble Sort y visualiza el proceso.\n",
    "4. Ordena las calificaciones usando `sorted()` con simulación paso a paso.\n",
    "5. Inserta una nueva calificación (ej. nota supletoria) en su lugar correcto usando `bisect.insort()`.\n",
    "6. Busca si una nota específica existe y muestra su posición con `bisect_left`.\n",
    "7. Compara y explica cuál enfoque fue más claro y eficiente.\n"
   ]
  },
  {
   "cell_type": "markdown",
   "id": "e90dd01b",
   "metadata": {},
   "source": [
    "## Paso 1: Generar lista de notas"
   ]
  },
  {
   "cell_type": "code",
   "execution_count": null,
   "id": "f7076a81",
   "metadata": {},
   "outputs": [],
   "source": [
    "import random\n",
    "notas = random.sample(range(0, 21), 15)  # 15 notas entre 0 y 20 sin repetidos\n",
    "print(\"📋 Notas originales:\", notas)"
   ]
  },
  {
   "cell_type": "markdown",
   "id": "cff459f5",
   "metadata": {},
   "source": [
    "## Paso 2: Visualizar Bubble Sort (puedes guiarte de `4_2_Visualizacion_BubbleSort.ipynb`)"
   ]
  },
  {
   "cell_type": "code",
   "execution_count": null,
   "id": "0579802e",
   "metadata": {},
   "outputs": [],
   "source": [
    "# Copia tu función de visualización bubble_sort aquí (puede usar matplotlib y clear_output)\n",
    "# Si no tienes aún la función, consulta el notebook 4_2 para adaptarla.\n"
   ]
  },
  {
   "cell_type": "markdown",
   "id": "799040ae",
   "metadata": {},
   "source": [
    "## Paso 3: Visualizar sorted() paso a paso (ver `4_4_Comparacion_BubbleSort_vs_Sorted_Animada.ipynb`)"
   ]
  },
  {
   "cell_type": "code",
   "execution_count": null,
   "id": "300ffd97",
   "metadata": {},
   "outputs": [],
   "source": [
    "# Copia o adapta tu simulador visual de sorted() aquí\n",
    "# La animación debe mostrar progresivamente cómo se forma la lista ordenada\n"
   ]
  },
  {
   "cell_type": "markdown",
   "id": "35d4b640",
   "metadata": {},
   "source": [
    "## Paso 4: Insertar una nueva calificación con bisect (ver `4_1_Clase_Complementaria_Bisect_Sorted.ipynb`)"
   ]
  },
  {
   "cell_type": "code",
   "execution_count": null,
   "id": "67f71cec",
   "metadata": {},
   "outputs": [],
   "source": [
    "import bisect\n",
    "\n",
    "nueva_nota = 15  # puedes cambiar o pedir por input\n",
    "bisect.insort(notas, nueva_nota)\n",
    "print(\"✅ Lista después de insertar la nueva nota:\", notas)"
   ]
  },
  {
   "cell_type": "markdown",
   "id": "23892505",
   "metadata": {},
   "source": [
    "## Paso 5: Buscar una calificación usando bisect"
   ]
  },
  {
   "cell_type": "code",
   "execution_count": null,
   "id": "3870b525",
   "metadata": {},
   "outputs": [],
   "source": [
    "nota_buscar = 10  # puedes cambiar o pedir por input\n",
    "posicion = bisect.bisect_left(notas, nota_buscar)\n",
    "if posicion < len(notas) and notas[posicion] == nota_buscar:\n",
    "    print(f\"🔍 La nota {nota_buscar} se encuentra en la posición {posicion}\")\n",
    "else:\n",
    "    print(f\"❌ La nota {nota_buscar} no está en la lista.\")"
   ]
  },
  {
   "cell_type": "markdown",
   "id": "d6baf35b",
   "metadata": {},
   "source": [
    "## Paso 6: Conclusión personal"
   ]
  },
  {
   "cell_type": "code",
   "execution_count": null,
   "id": "32dc833c",
   "metadata": {},
   "outputs": [],
   "source": [
    "# Escribe aquí tu reflexión final:\n",
    "# ¿Qué método te pareció más eficiente o claro para ordenar?\n",
    "# ¿Crees que es útil visualizar el proceso de ordenamiento?\n"
   ]
  },
  {
   "cell_type": "markdown",
   "id": "9f92d63f",
   "metadata": {},
   "source": [
    "---\n",
    "\n",
    "## 📝 Rúbrica de evaluación (sobre 100 puntos)\n",
    "\n",
    "| Criterio                                                    | Puntaje |\n",
    "|-------------------------------------------------------------|---------|\n",
    "| Lista aleatoria generada correctamente                      | 10 pts  |\n",
    "| Implementación de Bubble Sort con visualización             | 20 pts  |\n",
    "| Simulación visual de `sorted()`                             | 20 pts  |\n",
    "| Inserción de calificación usando `bisect.insort()`          | 10 pts  |\n",
    "| Búsqueda de nota con `bisect.bisect_left()`                 | 10 pts  |\n",
    "| Reflexión personal clara y argumentada                      | 10 pts  |\n",
    "| Claridad del código y buenas prácticas (comentarios, orden) | 10 pts  |\n",
    "| Presentación visual adecuada (uso de matplotlib, salida)    | 10 pts  |\n",
    "| **Total**                                                   | **100** |\n",
    "\n"
   ]
  }
 ],
 "metadata": {
  "language_info": {
   "name": "python"
  }
 },
 "nbformat": 4,
 "nbformat_minor": 5
}
