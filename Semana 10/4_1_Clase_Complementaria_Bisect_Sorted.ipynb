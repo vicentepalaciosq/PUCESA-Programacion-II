{
 "cells": [
  {
   "cell_type": "markdown",
   "id": "65507acf",
   "metadata": {},
   "source": [
    "# 📦 Uso de `bisect` y `sorted` en Python\n",
    "\n",
    "En esta clase complementaria, veremos cómo Python ofrece herramientas integradas y eficientes para realizar ordenamiento y búsqueda binaria, sin necesidad de programar todo desde cero.\n",
    "\n",
    "## 🔍 ¿Por qué usar librerías como `bisect` o `sorted`?\n",
    "\n",
    "- Son más rápidas, ya que están optimizadas internamente.\n",
    "- Reducen errores al programar.\n",
    "- Simplifican el código en proyectos reales.\n",
    "\n",
    "---"
   ]
  },
  {
   "cell_type": "markdown",
   "id": "258d1fbd",
   "metadata": {},
   "source": [
    "## 🧪 Ejemplo 1: Búsqueda Binaria con `bisect`\n",
    "\n",
    "Usamos `bisect_left` para saber en qué posición se puede insertar un valor sin desordenar la lista.\n"
   ]
  },
  {
   "cell_type": "code",
   "execution_count": 5,
   "id": "d208ee64",
   "metadata": {},
   "outputs": [
    {
     "name": "stdout",
     "output_type": "stream",
     "text": [
      "Lista original: [1, 3, 4, 6, 9]\n",
      "La posición donde insertar 4 es: 2\n"
     ]
    }
   ],
   "source": [
    "# Importamos el módulo bisect, que proporciona funciones para trabajar con listas ordenadas\n",
    "import bisect\n",
    "\n",
    "# Definimos una lista ordenada de números\n",
    "lista = [1, 3, 4, 6, 9]\n",
    "print(\"Lista original:\", lista)\n",
    "\n",
    "# Utilizamos la función bisect_left para encontrar la posición donde se puede insertar el número 4\n",
    "# sin desordenar la lista.\n",
    "# Esta función realiza una búsqueda binaria eficiente y retorna el índice donde el valor podría insertarse\n",
    "# manteniendo el orden ascendente.\n",
    "\n",
    "# Si el número ya existe en la lista, bisect_left devuelve la posición del primer elemento igual a ese valor.\n",
    "# Si no existe, devuelve la posición donde debería estar para conservar el orden.\n",
    "pos = bisect.bisect_left(lista, 4)\n",
    "\n",
    "# Mostramos la posición donde se insertaría el número 4\n",
    "print(\"La posición donde insertar 4 es:\", pos)\n",
    "\n"
   ]
  },
  {
   "cell_type": "markdown",
   "id": "ee4cf25c",
   "metadata": {},
   "source": [
    "## 🧪 Ejemplo 2: Inserción con `bisect.insort`\n",
    "\n",
    "Insertamos el valor directamente en la posición correcta para mantener la lista ordenada.\n"
   ]
  },
  {
   "cell_type": "code",
   "execution_count": 6,
   "id": "519f5edc",
   "metadata": {},
   "outputs": [
    {
     "name": "stdout",
     "output_type": "stream",
     "text": [
      "Lista después de insertar 4: [1, 3, 4, 4, 6, 9]\n"
     ]
    }
   ],
   "source": [
    "import bisect  # Importamos el módulo 'bisect' que permite trabajar con listas ordenadas de forma eficiente\n",
    "\n",
    "# Definimos una lista ordenada de números\n",
    "lista = [1, 3, 4, 6, 9]\n",
    "\n",
    "# Usamos bisect.insort() para insertar el número 4 en la posición correcta dentro de la lista\n",
    "# Esta función realiza una búsqueda binaria para encontrar la posición adecuada\n",
    "# y luego inserta el valor allí, manteniendo el orden de la lista.\n",
    "# Por defecto, utiliza bisect_right, por lo que si ya existe un 4, el nuevo se insertará después.\n",
    "bisect.insort(lista, 4)\n",
    "\n",
    "# Imprimimos la lista resultante después de insertar el número 4\n",
    "# Ahora la lista contiene dos valores 4, y sigue estando ordenada.\n",
    "print(\"Lista después de insertar 4:\", lista)\n"
   ]
  },
  {
   "cell_type": "markdown",
   "id": "1f4872d1",
   "metadata": {},
   "source": [
    "## 🧪 Ejemplo 3: Ordenar listas con `sorted`\n",
    "\n",
    "`sorted()` devuelve una nueva lista ordenada sin modificar la original.\n"
   ]
  },
  {
   "cell_type": "code",
   "execution_count": 9,
   "id": "c4ef77eb",
   "metadata": {},
   "outputs": [
    {
     "name": "stdout",
     "output_type": "stream",
     "text": [
      "Original: [15.0, 5.0, 22.0, 9.5, 1.0]\n",
      "Ordenada: [1.0, 5.0, 9.5, 15.0, 22.0]\n"
     ]
    }
   ],
   "source": [
    "# Definimos una lista de precios (no está ordenada inicialmente)\n",
    "precios = [15.0, 5.0, 22.0, 9.5, 1.0]\n",
    "\n",
    "# Usamos la función built-in sorted() para ordenar la lista de menor a mayor\n",
    "# Esta función NO modifica la lista original, sino que devuelve una nueva lista ordenada\n",
    "ordenada = sorted(precios)\n",
    "\n",
    "# Imprimimos la lista original para mostrar que no ha sido alterada\n",
    "print(\"Original:\", precios)\n",
    "\n",
    "# Imprimimos la lista ordenada, que es el resultado de aplicar sorted()\n",
    "print(\"Ordenada:\", ordenada)\n"
   ]
  },
  {
   "cell_type": "markdown",
   "id": "920b3822",
   "metadata": {},
   "source": [
    "## 🔄 Comparación con ordenamiento manual\n",
    "\n",
    "Veamos cómo se compara con Bubble Sort (implementación manual).\n"
   ]
  },
  {
   "cell_type": "code",
   "execution_count": 13,
   "id": "137f627c",
   "metadata": {},
   "outputs": [
    {
     "name": "stdout",
     "output_type": "stream",
     "text": [
      "🔍 Iniciando Bubble Sort paso a paso:\n",
      "\n",
      "Comparación #1: ¿15.0 > 5.0?\n",
      "  ↪️ Intercambio: 15.0 <-> 5.0\n",
      "Comparación #2: ¿15.0 > 22.0?\n",
      "  ✅ No se intercambia\n",
      "Comparación #3: ¿22.0 > 9.5?\n",
      "  ↪️ Intercambio: 22.0 <-> 9.5\n",
      "Comparación #4: ¿22.0 > 1.0?\n",
      "  ↪️ Intercambio: 22.0 <-> 1.0\n",
      "Comparación #5: ¿5.0 > 15.0?\n",
      "  ✅ No se intercambia\n",
      "Comparación #6: ¿15.0 > 9.5?\n",
      "  ↪️ Intercambio: 15.0 <-> 9.5\n",
      "Comparación #7: ¿15.0 > 1.0?\n",
      "  ↪️ Intercambio: 15.0 <-> 1.0\n",
      "Comparación #8: ¿5.0 > 9.5?\n",
      "  ✅ No se intercambia\n",
      "Comparación #9: ¿9.5 > 1.0?\n",
      "  ↪️ Intercambio: 9.5 <-> 1.0\n",
      "Comparación #10: ¿5.0 > 1.0?\n",
      "  ↪️ Intercambio: 5.0 <-> 1.0\n",
      "\n",
      "✅ Ordenamiento finalizado\n",
      "Comparaciones realizadas: 10\n",
      "Intercambios realizados: 7\n",
      "Lista ordenada: [1.0, 5.0, 9.5, 15.0, 22.0]\n",
      "\n",
      "📦 Resultado con sorted(): [1.0, 5.0, 9.5, 15.0, 22.0]\n"
     ]
    }
   ],
   "source": [
    "def bubble_sort(lista):\n",
    "    # Hacemos una copia para no modificar la lista original\n",
    "    lista = lista.copy()\n",
    "\n",
    "    # Inicializamos contadores\n",
    "    comparaciones = 0\n",
    "    intercambios = 0\n",
    "\n",
    "    # Obtenemos la longitud de la lista\n",
    "    n = len(lista)\n",
    "\n",
    "    print(\"🔍 Iniciando Bubble Sort paso a paso:\\n\")\n",
    "\n",
    "    # Algoritmo Bubble Sort\n",
    "    for i in range(n):\n",
    "        for j in range(0, n - i - 1):\n",
    "            # Mostrar qué se está comparando\n",
    "            print(f\"Comparación #{comparaciones + 1}: ¿{lista[j]} > {lista[j + 1]}?\")\n",
    "\n",
    "            # Incrementamos el contador de comparaciones\n",
    "            comparaciones += 1\n",
    "\n",
    "            # Si el elemento actual (en la posición j) es mayor que el siguiente (en la posición j+1),\n",
    "            # significa que están en el orden incorrecto (ej. 15.0 y 5.0), y por lo tanto se deben intercambiar.\n",
    "            if lista[j] > lista[j + 1]:\n",
    "\n",
    "                # Mostramos un mensaje claro en consola indicando qué valores se van a intercambiar.\n",
    "                # Usamos una flecha ↪️ para que se vea visualmente que los valores se \"mueven\".\n",
    "                print(f\"  ↪️ Intercambio: {lista[j]} <-> {lista[j + 1]}\")\n",
    "\n",
    "                # Realizamos el intercambio de los dos elementos.\n",
    "                # Esta técnica se llama \"desempaquetado de tuplas\", y es una forma elegante de hacer swap en Python.\n",
    "                # En otras palabras, lo que hay en la posición j+1 (el más pequeño) se pone en la posición j,\n",
    "                # y el valor mayor que estaba en j pasa a j+1.\n",
    "                lista[j], lista[j + 1] = lista[j + 1], lista[j]\n",
    "\n",
    "                # Aumentamos el contador de intercambios porque acabamos de mover dos elementos.\n",
    "                intercambios += 1\n",
    "\n",
    "            else:\n",
    "                print(\"  ✅ No se intercambia\")\n",
    "\n",
    "    # Mostrar lista final y estadísticas\n",
    "    print(\"\\n✅ Ordenamiento finalizado\")\n",
    "    print(f\"Comparaciones realizadas: {comparaciones}\")\n",
    "    print(f\"Intercambios realizados: {intercambios}\")\n",
    "    print(\"Lista ordenada:\", lista)\n",
    "\n",
    "    return lista\n",
    "\n",
    "# Lista de prueba\n",
    "precios = [15.0, 5.0, 22.0, 9.5, 1.0]\n",
    "\n",
    "# Ordenamiento con bubble sort (salida detallada)\n",
    "ordenada_manual = bubble_sort(precios)\n",
    "\n",
    "# Ordenamiento con sorted (sin trazabilidad)\n",
    "print(\"\\n📦 Resultado con sorted():\", sorted(precios))\n"
   ]
  },
  {
   "cell_type": "markdown",
   "id": "83293ff5",
   "metadata": {},
   "source": [
    "## ✅ Conclusión Ampliada\n",
    "\n",
    "### 🔹 ¿Qué aprendimos?\n",
    "\n",
    "En esta clase conocimos dos herramientas muy poderosas que ofrece Python para trabajar con listas de forma **eficiente** y **elegante**:\n",
    "\n",
    "---\n",
    "\n",
    "### 📌 `bisect`: búsqueda e inserción binaria en listas ordenadas\n",
    "\n",
    "- El módulo `bisect` no solo permite \"buscar si un número está en una lista\", sino que su verdadera utilidad está en **encontrar la posición adecuada para insertar un nuevo elemento sin romper el orden**.\n",
    "- Ideal para mantener listas **ordenadas dinámicamente**, como:\n",
    "  - Agendas con fechas ordenadas\n",
    "  - Listas de precios o stocks\n",
    "  - Colas de prioridad (prioridad por valor)\n",
    "  \n",
    "- Funciones clave:\n",
    "  - `bisect_left(lista, x)` → devuelve la **posición más a la izquierda** donde insertar `x`.\n",
    "  - `bisect_right(lista, x)` → devuelve la **posición más a la derecha**.\n",
    "  - `insort(lista, x)` → **inserta automáticamente** `x` en la posición correcta manteniendo el orden (usa `bisect_right`).\n",
    "\n",
    "> 🔎 Estas funciones usan **búsqueda binaria**, lo cual es mucho más rápido que recorrer la lista de forma secuencial.\n",
    "\n",
    "---\n",
    "\n",
    "### 📌 `sorted()`: ordenamiento automático y eficiente\n",
    "\n",
    "- La función `sorted()` permite **ordenar listas u otros iterables** de forma simple y clara.\n",
    "- No modifica la lista original, sino que devuelve una **nueva lista ordenada**.\n",
    "- Soporta:\n",
    "  - `reverse=True` → para orden descendente.\n",
    "  - `key=...` → para ordenar por criterios personalizados (por ejemplo, por longitud, por nombre, etc).\n",
    "\n",
    "> 💡 `sorted()` es preferida en la mayoría de los casos por su **rapidez**, **simplicidad** y **versatilidad**.\n",
    "\n",
    "---\n",
    "\n",
    "### 🚀 Aplicación práctica\n",
    "\n",
    "Estas funciones son ideales para el desarrollo de sistemas reales porque:\n",
    "\n",
    "- Evitan tener que programar algoritmos manuales complejos.\n",
    "- Mejoran el rendimiento en estructuras grandes.\n",
    "- Son estándar en Python y fáciles de mantener en equipo.\n",
    "\n",
    "---\n",
    "\n",
    "### 🎓 Reflexión final\n",
    "\n",
    "> En lugar de \"reinventar la rueda\", podemos **aprovechar herramientas nativas como `bisect` y `sorted()`**, que están optimizadas para resolver problemas comunes de búsqueda y ordenamiento. Así podemos enfocarnos en resolver la lógica de negocio de nuestros sistemas.\n",
    "\n"
   ]
  }
 ],
 "metadata": {
  "kernelspec": {
   "display_name": "base",
   "language": "python",
   "name": "python3"
  },
  "language_info": {
   "codemirror_mode": {
    "name": "ipython",
    "version": 3
   },
   "file_extension": ".py",
   "mimetype": "text/x-python",
   "name": "python",
   "nbconvert_exporter": "python",
   "pygments_lexer": "ipython3",
   "version": "3.11.5"
  }
 },
 "nbformat": 4,
 "nbformat_minor": 5
}
