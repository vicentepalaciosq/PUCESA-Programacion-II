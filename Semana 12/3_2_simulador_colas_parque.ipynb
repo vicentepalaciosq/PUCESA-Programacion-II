{
 "cells": [
  {
   "cell_type": "markdown",
   "id": "d314736f",
   "metadata": {},
   "source": [
    "\n",
    "# Simulador de Parque de Diversiones 🎢\n",
    "# Proyecto guiado paso a paso\n",
    "\n"
   ]
  },
  {
   "cell_type": "markdown",
   "id": "d196ce1a",
   "metadata": {},
   "source": [
    "## Paso 1: Definición del problema"
   ]
  },
  {
   "cell_type": "markdown",
   "id": "27cc6fde",
   "metadata": {},
   "source": [
    "Imagina que eres el encargado de programar la fila de una montaña rusa. \n",
    "Debes crear un sistema que maneje dos tipos de colas:\n",
    "- Cola general (personas normales)\n",
    "- Cola prioritaria (niños, personas con discapacidad, fast pass)\n",
    "\n",
    "La atracción tiene una capacidad de 4 personas por viaje.\n",
    "Cada viaje dura 3 turnos simulados.\n",
    "\n",
    "Tu objetivo será construir una simulación de estos viajes con colas reales."
   ]
  },
  {
   "cell_type": "markdown",
   "id": "5185751f",
   "metadata": {},
   "source": [
    "## Paso 2: Importación de módulos y estructuras de datos"
   ]
  },
  {
   "cell_type": "code",
   "execution_count": 9,
   "id": "873cbce3",
   "metadata": {},
   "outputs": [],
   "source": [
    "# Importamos la clase deque desde el módulo collections, que permite crear colas de manera eficiente.\n",
    "from collections import deque\n",
    "\n",
    "# Importamos el módulo time para simular pausas entre turnos (espera del viaje).\n",
    "import time\n",
    "\n",
    "# Importamos random para generar nombres aleatorios de personas y decidir si tienen prioridad.\n",
    "import random\n",
    "\n",
    "# Creamos una cola vacía para personas que hacen fila normalmente.\n",
    "cola_general = deque()\n",
    "\n",
    "# Creamos una cola separada para personas con prioridad (niños, discapacidad, fast pass).\n",
    "cola_prioritaria = deque()\n"
   ]
  },
  {
   "cell_type": "markdown",
   "id": "fac9e3ee",
   "metadata": {},
   "source": [
    "## Paso 3: Crear funciones para gestionar la cola"
   ]
  },
  {
   "cell_type": "code",
   "execution_count": 10,
   "id": "d518a44b",
   "metadata": {},
   "outputs": [],
   "source": [
    "# Esta función agrega personas a la cola correspondiente.\n",
    "# Recibe un nombre (string) y una bandera de prioridad (True o False).\n",
    "def agregar_visitante(nombre, prioridad=False):\n",
    "    if prioridad:\n",
    "        # Si la persona tiene prioridad, se agrega a la cola prioritaria.\n",
    "        cola_prioritaria.append(nombre)\n",
    "    else:\n",
    "        # Si no tiene prioridad, se agrega a la cola general.\n",
    "        cola_general.append(nombre)\n",
    "\n",
    "# Esta función muestra el estado actual de ambas colas.\n",
    "# Convierte las colas a listas para que se muestren bien por consola.\n",
    "def mostrar_colas():\n",
    "    print(\"\\nCola Prioritaria:\", list(cola_prioritaria))\n",
    "    print(\"Cola General:\", list(cola_general))\n"
   ]
  },
  {
   "cell_type": "markdown",
   "id": "e7449404",
   "metadata": {},
   "source": [
    "## Paso 4: Crear lógica para llenar el vagón"
   ]
  },
  {
   "cell_type": "code",
   "execution_count": 11,
   "id": "f7b041c5",
   "metadata": {},
   "outputs": [],
   "source": [
    "# Definimos la capacidad máxima del vagón de la montaña rusa: solo pueden subir 4 personas por viaje.\n",
    "CAPACIDAD_VAGON = 4\n",
    "\n",
    "# Esta función simula el proceso de llenar el vagón antes del viaje.\n",
    "def cargar_vagon():\n",
    "    pasajeros = []  # Lista vacía que irá guardando los nombres de quienes suben.\n",
    "\n",
    "    # Mientras el vagón no esté lleno...\n",
    "    while len(pasajeros) < CAPACIDAD_VAGON:\n",
    "        if cola_prioritaria:\n",
    "            # Si hay alguien en la cola prioritaria, sube primero.\n",
    "            # Usamos .popleft() para sacar a la persona del principio de la cola.\n",
    "            pasajeros.append(cola_prioritaria.popleft())\n",
    "        elif cola_general:\n",
    "            # Si ya no hay nadie en la prioritaria, tomamos a alguien de la cola general.\n",
    "            pasajeros.append(cola_general.popleft())\n",
    "        else:\n",
    "            # Si ya no hay nadie esperando, se detiene el proceso.\n",
    "            break\n",
    "\n",
    "    # Retornamos la lista de pasajeros que subieron al vagón.\n",
    "    return pasajeros\n"
   ]
  },
  {
   "cell_type": "markdown",
   "id": "7a89b469",
   "metadata": {},
   "source": [
    "## Paso 5: Simular el viaje de la montaña rusa"
   ]
  },
  {
   "cell_type": "code",
   "execution_count": 12,
   "id": "9a9c1bc1",
   "metadata": {},
   "outputs": [],
   "source": [
    "# Definimos la duración del viaje en turnos. Cada viaje tarda 3 \"unidades de tiempo\".\n",
    "DURACION_VIAJE = 3\n",
    "\n",
    "# Esta función simula el viaje de la montaña rusa.\n",
    "# Recibe la lista de pasajeros y el número del viaje actual.\n",
    "def simular_viaje(pasajeros, numero_viaje):\n",
    "    # Imprimimos el inicio del viaje con los nombres de los pasajeros que subieron.\n",
    "    print(f\"\\n Viaje #{numero_viaje} con: {pasajeros}\")\n",
    "\n",
    "    # Simulamos el viaje mediante un ciclo que dura la cantidad de turnos definida.\n",
    "    for t in range(DURACION_VIAJE):\n",
    "        # Imprime el turno actual dentro del viaje (por ejemplo: Turno 1/3)\n",
    "        print(f\"  Turno {t+1}/{DURACION_VIAJE}\")\n",
    "        # Pausa el programa 1 segundo para simular que el viaje está en progreso.\n",
    "        time.sleep(1)\n",
    "\n",
    "    # Al finalizar todos los turnos, mostramos un mensaje celebrando el fin del viaje.\n",
    "    print(\"¡Viaje finalizado!\")\n"
   ]
  },
  {
   "cell_type": "markdown",
   "id": "d93d00fe",
   "metadata": {},
   "source": [
    "## Paso 6: Generar visitantes aleatorios y controlar turnos"
   ]
  },
  {
   "cell_type": "code",
   "execution_count": 13,
   "id": "b79d3c7f",
   "metadata": {},
   "outputs": [],
   "source": [
    "# Esta función controla la simulación completa durante varios turnos.\n",
    "# Recibe como parámetro la cantidad total de turnos a ejecutar.\n",
    "def iniciar_simulacion(turnos_totales):\n",
    "    viaje_num = 1  # Contador de viajes realizados\n",
    "\n",
    "    # Recorremos cada turno uno por uno\n",
    "    for turno in range(turnos_totales):\n",
    "        print(f\"--- Turno {turno+1}/{turnos_totales} ---\")\n",
    "\n",
    "        # Se generan entre 1 y 3 nuevos visitantes de forma aleatoria\n",
    "        cantidad = random.randint(1, 3)\n",
    "        for _ in range(cantidad):\n",
    "            # Elegimos un nombre al azar de una lista\n",
    "            nombre = random.choice([\"Ana\", \"Luis\", \"Carlos\", \"Sofía\", \"Mateo\", \"Valentina\"])\n",
    "\n",
    "            # 30% de probabilidad de que tenga prioridad (niño, discapacidad, fast pass)\n",
    "            es_prioridad = random.random() < 0.3\n",
    "\n",
    "            # Se agrega el visitante a la cola correspondiente\n",
    "            agregar_visitante(nombre, es_prioridad)\n",
    "\n",
    "        # Mostramos el estado actual de las colas\n",
    "        mostrar_colas()\n",
    "\n",
    "        # Si hay suficientes personas para llenar un vagón, iniciamos el viaje\n",
    "        if len(cola_general) + len(cola_prioritaria) >= CAPACIDAD_VAGON:\n",
    "            pasajeros = cargar_vagon()         # Seleccionamos a los pasajeros\n",
    "            simular_viaje(pasajeros, viaje_num)  # Simulamos el viaje\n",
    "            viaje_num += 1                     # Aumentamos el contador de viajes\n",
    "        else:\n",
    "            # Si aún no hay suficientes personas, se espera\n",
    "            print(\"Aún no hay suficientes personas para el viaje.\")\n"
   ]
  },
  {
   "cell_type": "markdown",
   "id": "fb865071",
   "metadata": {},
   "source": [
    "## Paso 7: Ejecuta la simulación"
   ]
  },
  {
   "cell_type": "code",
   "execution_count": 14,
   "id": "4b1f151a",
   "metadata": {},
   "outputs": [
    {
     "name": "stdout",
     "output_type": "stream",
     "text": [
      "--- Turno 1/10 ---\n",
      "\n",
      "Cola Prioritaria: []\n",
      "Cola General: ['Ana', 'Luis']\n",
      "Aún no hay suficientes personas para el viaje.\n",
      "--- Turno 2/10 ---\n",
      "\n",
      "Cola Prioritaria: []\n",
      "Cola General: ['Ana', 'Luis', 'Carlos', 'Luis', 'Mateo']\n",
      "\n",
      " Viaje #1 con: ['Ana', 'Luis', 'Carlos', 'Luis']\n",
      "  Turno 1/3\n",
      "  Turno 2/3\n",
      "  Turno 3/3\n",
      "¡Viaje finalizado!\n",
      "--- Turno 3/10 ---\n",
      "\n",
      "Cola Prioritaria: []\n",
      "Cola General: ['Mateo', 'Ana']\n",
      "Aún no hay suficientes personas para el viaje.\n",
      "--- Turno 4/10 ---\n",
      "\n",
      "Cola Prioritaria: []\n",
      "Cola General: ['Mateo', 'Ana', 'Ana']\n",
      "Aún no hay suficientes personas para el viaje.\n",
      "--- Turno 5/10 ---\n",
      "\n",
      "Cola Prioritaria: []\n",
      "Cola General: ['Mateo', 'Ana', 'Ana', 'Mateo']\n",
      "\n",
      " Viaje #2 con: ['Mateo', 'Ana', 'Ana', 'Mateo']\n",
      "  Turno 1/3\n",
      "  Turno 2/3\n",
      "  Turno 3/3\n",
      "¡Viaje finalizado!\n",
      "--- Turno 6/10 ---\n",
      "\n",
      "Cola Prioritaria: []\n",
      "Cola General: ['Valentina', 'Sofía', 'Sofía']\n",
      "Aún no hay suficientes personas para el viaje.\n",
      "--- Turno 7/10 ---\n",
      "\n",
      "Cola Prioritaria: []\n",
      "Cola General: ['Valentina', 'Sofía', 'Sofía', 'Ana', 'Mateo']\n",
      "\n",
      " Viaje #3 con: ['Valentina', 'Sofía', 'Sofía', 'Ana']\n",
      "  Turno 1/3\n",
      "  Turno 2/3\n",
      "  Turno 3/3\n",
      "¡Viaje finalizado!\n",
      "--- Turno 8/10 ---\n",
      "\n",
      "Cola Prioritaria: []\n",
      "Cola General: ['Mateo', 'Luis']\n",
      "Aún no hay suficientes personas para el viaje.\n",
      "--- Turno 9/10 ---\n",
      "\n",
      "Cola Prioritaria: ['Ana']\n",
      "Cola General: ['Mateo', 'Luis', 'Sofía']\n",
      "\n",
      " Viaje #4 con: ['Ana', 'Mateo', 'Luis', 'Sofía']\n",
      "  Turno 1/3\n",
      "  Turno 2/3\n",
      "  Turno 3/3\n",
      "¡Viaje finalizado!\n",
      "--- Turno 10/10 ---\n",
      "\n",
      "Cola Prioritaria: []\n",
      "Cola General: ['Mateo']\n",
      "Aún no hay suficientes personas para el viaje.\n"
     ]
    }
   ],
   "source": [
    "# Llamar a la función principal\n",
    "iniciar_simulacion(turnos_totales=10)"
   ]
  },
  {
   "cell_type": "markdown",
   "id": "545537b9",
   "metadata": {},
   "source": [
    "## Paso 8: Extensiones"
   ]
  },
  {
   "cell_type": "markdown",
   "id": "0525bcd1",
   "metadata": {},
   "source": [
    "## Desafíos adicionales para extender la simulación\n",
    "\n",
    "A continuación se plantean **mejoras** que puedes realizar al simulador de colas para un parque de diversiones. Estas actividades están pensadas para aplicar tu creatividad, lógica y dominio de las estructuras de datos:\n",
    "\n",
    "---\n",
    "\n",
    "### 1. Agrega una tercera cola: `discapacidad`\n",
    "- Crea una nueva estructura: `cola_discapacidad = deque()`.\n",
    "- Modifica la función `agregar_visitante()` para que detecte y envíe a esta nueva cola si corresponde.\n",
    "- Ajusta `cargar_vagon()` para que las personas con discapacidad tengan la mayor prioridad.\n",
    "- **Orden sugerido de atención**: discapacidad → prioritaria → general.\n",
    "\n",
    "---\n",
    "\n",
    "### 2. Crea tickets personalizados\n",
    "- Cada vez que alguien suba al vagón, imprime un ticket que incluya:\n",
    "  - Nombre del visitante\n",
    "  - Tipo de acceso (General, Prioridad, Discapacidad)\n",
    "  - Número de viaje\n",
    "  - Mensaje especial: `\"¡Gracias por visitar K-Boom Park!\"`\n",
    "- Puedes crear una función `generar_ticket(nombre, tipo, viaje)` para automatizarlo.\n",
    "\n",
    "---\n",
    "\n",
    "### 3. Lleva estadísticas al final\n",
    "- Crea variables contadoras:\n",
    "  - Total de personas atendidas\n",
    "  - Total por tipo de acceso\n",
    "  - Promedio de personas por viaje\n",
    "- Al terminar la simulación, muestra los resultados con `print()`.\n",
    "\n",
    "---\n",
    "\n",
    "### 4. Crea un menú interactivo para insertar personas\n",
    "- En lugar de solo generar personas aleatoriamente, permite que el usuario elija acciones:\n",
    "\n",
    "1. Agregar persona\n",
    "2. Ver estado de las colas\n",
    "3. Simular viaje\n",
    "4. Salir del sistema\n",
    "\n",
    "---\n",
    "\n",
    "- Usa un ciclo `while True` y `input()` para gestionar la interacción.\n",
    "\n",
    "---\n",
    "\n",
    "### 5. Controla el tiempo de espera entre turnos\n",
    "- Usa `input()` para permitir al usuario establecer cuántos segundos dura cada turno.\n",
    "- Reemplaza `time.sleep(1)` por `time.sleep(espera)` usando esa variable.\n",
    "\n",
    "---\n",
    "\n",
    "### Objetivo final\n",
    "\n",
    "Al completar estos retos, tu simulador será mucho más interactivo, realista y funcional. Además, estarás aplicando conceptos clave de:\n",
    "- Programación estructurada\n",
    "- Estructuras de datos\n",
    "- Entrada y salida de datos\n",
    "- Simulación basada en lógica de eventos\n",
    "- Creatividad y solución de problemas\n"
   ]
  },
  {
   "cell_type": "markdown",
   "id": "6d08c464",
   "metadata": {},
   "source": [
    "| Criterio                                          | Descripción                                                                             | Puntaje Máximo |\n",
    "| ------------------------------------------------- | --------------------------------------------------------------------------------------- | -------------- |\n",
    "| **1. Implementación básica del simulador**        | Se construyó la simulación con colas general y prioritaria, con viajes que se ejecutan  | 20 puntos      |\n",
    "| **2. Funcionalidad correcta del código**          | El simulador corre sin errores, atiende correctamente y respeta el orden de prioridad   | 15 puntos      |\n",
    "| **3. Manejo de estructuras de datos (colas)**     | Se usaron correctamente `deque`, y las operaciones `.append()` y `.popleft()`           | 10 puntos      |\n",
    "| **4. Comentarios y claridad del código**          | El código está bien documentado, con comentarios claros en cada función relevante       | 10 puntos      |\n",
    "| **5. Creatividad en la simulación**               | Se personalizó el proyecto con detalles como nombres únicos, mensajes divertidos, etc.  | 5 puntos       |\n",
    "| **6. Ticket personalizado para pasajeros**        | Se genera e imprime un ticket con los datos requeridos en cada viaje                    | 10 puntos      |\n",
    "| **7. Estadísticas finales**                       | Se muestra correctamente el número total de personas atendidas y otros datos relevantes | 10 puntos      |\n",
    "| **8. Menú interactivo**                           | Se implementó un sistema que permite al usuario insertar personas, ver colas y viajar   | 10 puntos      |\n",
    "| **9. Tercera cola (discapacidad)**                | Se integró una cola adicional con prioridad superior y se atendió correctamente         | 5 puntos       |\n",
    "| **10. Control del tiempo dinámico con `input()`** | El tiempo entre turnos puede ser modificado por el usuario                              | 5 puntos       |\n"
   ]
  }
 ],
 "metadata": {
  "kernelspec": {
   "display_name": "2po2025",
   "language": "python",
   "name": "python3"
  },
  "language_info": {
   "codemirror_mode": {
    "name": "ipython",
    "version": 3
   },
   "file_extension": ".py",
   "mimetype": "text/x-python",
   "name": "python",
   "nbconvert_exporter": "python",
   "pygments_lexer": "ipython3",
   "version": "3.10.18"
  }
 },
 "nbformat": 4,
 "nbformat_minor": 5
}
