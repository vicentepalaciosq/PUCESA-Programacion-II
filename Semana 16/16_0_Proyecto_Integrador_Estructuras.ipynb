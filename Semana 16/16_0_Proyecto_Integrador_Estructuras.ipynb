{
 "cells": [
  {
   "cell_type": "markdown",
   "id": "5ff3372f",
   "metadata": {},
   "source": [
    "# Proyecto Integrador: Sistema de Gestión Escolar de Emergencia"
   ]
  },
  {
   "cell_type": "markdown",
   "id": "0e31d76d",
   "metadata": {},
   "source": [
    "## Explicación del Proyecto\n",
    "\n",
    "Este proyecto simula un **Sistema de Gestión Escolar de Emergencia**, donde se aplican las siguientes estructuras de datos revisadas durante el curso:\n",
    "\n",
    "- **Pilas**: Para gestionar los reportes médicos de cada estudiante.\n",
    "- **Colas**: Para simular una evacuación escolar ordenada.\n",
    "- **Listas Dobles**: Para registrar y navegar entre las visitas al departamento médico.\n",
    "- **Listas Simples**: Para almacenar y consultar una bitácora de incidentes escolares.\n",
    "\n",
    "Los estudiantes deben implementar estas estructuras desde cero, sin utilizar listas nativas de Python, respetando el comportamiento de cada estructura.\n",
    "\n",
    "---\n",
    "\n",
    "## Entregables\n",
    "\n",
    "1. Archivo `.ipynb` completamente funcional con el desarrollo del sistema.\n",
    "2. Informe en PDF con:\n",
    "   - Portada\n",
    "   - Introducción\n",
    "   - Explicación de cada estructura usada\n",
    "   - Capturas de ejecución\n",
    "   - Conclusiones\n",
    "\n",
    "---\n",
    "\n",
    "## Rúbrica de Evaluación (Total: 100 puntos)\n",
    "\n",
    "| Criterio | Descripción | Puntos |\n",
    "|---------|-------------|--------|\n",
    "| **Pilas (Reportes médicos)** | Funcionalidad completa y lógica correcta | 15 |\n",
    "| **Colas (Evacuación)** | Registro, atención y orden adecuado | 15 |\n",
    "| **Listas Dobles (Visitas)** | Navegación entre nodos, estructura completa | 20 |\n",
    "| **Listas Simples (Bitácora)** | Inserción, búsqueda y eliminación | 15 |\n",
    "| **Calidad del código** | Claridad, organización, nombres adecuados | 10 |\n",
    "| **Interfaz usuario textual** | Menú funcional, interacción clara | 5 |\n",
    "| **Informe en PDF** | Redacción, estructura, claridad y capturas | 10 |\n",
    "| **Entrega puntual** | Dentro del plazo | 5 |\n",
    "| **Creatividad aplicada** | Realismo en datos y contexto | 5 |\n"
   ]
  },
  {
   "cell_type": "markdown",
   "id": "ac8a4121",
   "metadata": {},
   "source": [
    "Este proyecto integra todos los conceptos aprendidos desde la unidad `1_0_` hasta `15_1_`, incluyendo pilas, colas, listas enlazadas simples y dobles.\n",
    "\n",
    "Simularemos un sistema escolar que gestiona situaciones de emergencia, reportes médicos, evacuaciones, visitas médicas y bitácoras de incidentes escolares.\n",
    "\n",
    "**Tiempo de entrega: 8 días**\n"
   ]
  },
  {
   "cell_type": "markdown",
   "id": "cd2d3478",
   "metadata": {},
   "source": [
    "## 1. Gestión de Reportes Médicos (PILAS)\n",
    "Implementa una estructura tipo pila para registrar reportes médicos de estudiantes."
   ]
  },
  {
   "cell_type": "code",
   "execution_count": null,
   "id": "0ffdc839",
   "metadata": {},
   "outputs": [],
   "source": [
    "# Clase ReporteMedico\n",
    "class ReporteMedico:\n",
    "    def __init__(self, tipo, observacion):\n",
    "        self.tipo = tipo\n",
    "        self.observacion = observacion\n",
    "\n",
    "# Clase PilaReportes\n",
    "class PilaReportes:\n",
    "    def __init__(self):\n",
    "        pass  # Completa la implementación\n",
    "\n",
    "    def agregar_reporte(self, tipo, observacion):\n",
    "        pass\n",
    "\n",
    "    def eliminar_reporte(self):\n",
    "        pass\n",
    "\n",
    "    def mostrar_reportes(self):\n",
    "        pass\n",
    "\n",
    "# Pruebas aquí\n"
   ]
  },
  {
   "cell_type": "markdown",
   "id": "85d70e95",
   "metadata": {},
   "source": [
    "## 2. Simulación de Evacuación Escolar (COLAS)\n",
    "Simula una cola de salida durante una evacuación escolar."
   ]
  },
  {
   "cell_type": "code",
   "execution_count": null,
   "id": "4faac5d5",
   "metadata": {},
   "outputs": [],
   "source": [
    "# Clase EstudianteEvacuacion\n",
    "class EstudianteEvacuacion:\n",
    "    def __init__(self, nombre, aula):\n",
    "        self.nombre = nombre\n",
    "        self.aula = aula\n",
    "\n",
    "# Clase ColaEvacuacion\n",
    "class ColaEvacuacion:\n",
    "    def __init__(self):\n",
    "        pass  # Completa la implementación\n",
    "\n",
    "    def agregar_estudiante(self, nombre, aula):\n",
    "        pass\n",
    "\n",
    "    def atender_estudiante(self):\n",
    "        pass\n",
    "\n",
    "    def mostrar_en_espera(self):\n",
    "        pass\n",
    "\n",
    "# Pruebas aquí\n"
   ]
  },
  {
   "cell_type": "markdown",
   "id": "0f1571c7",
   "metadata": {},
   "source": [
    "## 3. Registro de Visitas Médicas (LISTA DOBLE)\n",
    "Permite navegar entre visitas médicas registradas."
   ]
  },
  {
   "cell_type": "code",
   "execution_count": null,
   "id": "391a9e38",
   "metadata": {},
   "outputs": [],
   "source": [
    "# Clase VisitaMedica\n",
    "class VisitaMedica:\n",
    "    def __init__(self, estudiante, motivo, fecha):\n",
    "        self.estudiante = estudiante\n",
    "        self.motivo = motivo\n",
    "        self.fecha = fecha\n",
    "\n",
    "# Nodo doble\n",
    "class NodoDoble:\n",
    "    def __init__(self, visita):\n",
    "        self.visita = visita\n",
    "        self.anterior = None\n",
    "        self.siguiente = None\n",
    "\n",
    "# Clase ListaVisitas\n",
    "class ListaVisitas:\n",
    "    def __init__(self):\n",
    "        self.actual = None\n",
    "\n",
    "    def agregar_visita(self, estudiante, motivo, fecha):\n",
    "        pass\n",
    "\n",
    "    def retroceder(self):\n",
    "        pass\n",
    "\n",
    "    def avanzar(self):\n",
    "        pass\n",
    "\n",
    "    def mostrar_actual(self):\n",
    "        pass\n",
    "\n",
    "# Pruebas aquí\n"
   ]
  },
  {
   "cell_type": "markdown",
   "id": "3d715abe",
   "metadata": {},
   "source": [
    "## 4. Bitácora de Incidentes Escolares (LISTA SIMPLE)\n",
    "Registra incidentes por año en una lista enlazada simple."
   ]
  },
  {
   "cell_type": "code",
   "execution_count": null,
   "id": "543e3caf",
   "metadata": {},
   "outputs": [],
   "source": [
    "# Clase Incidente\n",
    "class Incidente:\n",
    "    def __init__(self, anio, tipo):\n",
    "        self.anio = anio\n",
    "        self.tipo = tipo\n",
    "\n",
    "# Nodo simple\n",
    "class NodoIncidente:\n",
    "    def __init__(self, incidente):\n",
    "        self.incidente = incidente\n",
    "        self.siguiente = None\n",
    "\n",
    "# Clase ListaBitacora\n",
    "class ListaBitacora:\n",
    "    def __init__(self):\n",
    "        self.inicio = None\n",
    "\n",
    "    def agregar_incidente(self, anio, tipo):\n",
    "        pass\n",
    "\n",
    "    def eliminar_incidente(self, anio):\n",
    "        pass\n",
    "\n",
    "    def buscar_incidente(self, anio):\n",
    "        pass\n",
    "\n",
    "    def mostrar_incidentes(self):\n",
    "        pass\n",
    "\n",
    "# Pruebas aquí\n"
   ]
  }
 ],
 "metadata": {
  "language_info": {
   "name": "python"
  }
 },
 "nbformat": 4,
 "nbformat_minor": 5
}
